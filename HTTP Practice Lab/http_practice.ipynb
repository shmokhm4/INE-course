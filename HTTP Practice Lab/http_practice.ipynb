{
  "nbformat": 4,
  "nbformat_minor": 0,
  "metadata": {
    "colab": {
      "provenance": [],
      "toc_visible": true
    },
    "kernelspec": {
      "name": "python3",
      "display_name": "Python 3"
    },
    "language_info": {
      "name": "python"
    }
  },
  "cells": [
    {
      "cell_type": "code",
      "execution_count": 1,
      "metadata": {
        "id": "IP1mpsmHygFn"
      },
      "outputs": [],
      "source": [
        "import requests"
      ]
    },
    {
      "cell_type": "markdown",
      "source": [
        "# 1: Perform a simple GET request"
      ],
      "metadata": {
        "id": "t3OgACwb0W8g"
      }
    },
    {
      "cell_type": "markdown",
      "source": [
        "This exercise is already done to serve as an example. We just wrote a function that uses the requests python library to perform a GET request, and return the response that we get"
      ],
      "metadata": {
        "id": "f1Ueq-Br0LCP"
      }
    },
    {
      "cell_type": "code",
      "source": [
        "def perform_get_request():\n",
        "    \"\"\"Perform GET request to given URL and return the response\"\"\"\n",
        "    url = 'https://httpbin.org/get'\n",
        "    response = requests.get(url)\n",
        "    print(\"Status Code:\" , response.status_code)\n",
        "    print(\"header = \" , response.headers)\n",
        "    return response"
      ],
      "metadata": {
        "colab": {
          "base_uri": "https://localhost:8080/"
        },
        "id": "ODrSDGtFy-Iz",
        "outputId": "a539b81d-02bb-4d91-f0dc-319d890fc163"
      },
      "execution_count": 65,
      "outputs": [
        {
          "output_type": "stream",
          "name": "stdout",
          "text": [
            "Status Code: 200\n",
            "header =  {'Date': 'Tue, 03 Sep 2024 22:53:27 GMT', 'Content-Type': 'application/json', 'Content-Length': '306', 'Connection': 'keep-alive', 'Server': 'gunicorn/19.9.0', 'Access-Control-Allow-Origin': '*', 'Access-Control-Allow-Credentials': 'true'}\n"
          ]
        },
        {
          "output_type": "execute_result",
          "data": {
            "text/plain": [
              "<Response [200]>"
            ]
          },
          "metadata": {},
          "execution_count": 65
        }
      ]
    },
    {
      "cell_type": "markdown",
      "source": [
        "## Test 1"
      ],
      "metadata": {
        "id": "_eG9OADNGLs0"
      }
    },
    {
      "cell_type": "code",
      "source": [
        "def test_1_perform_get_request():\n",
        "    response = perform_get_request()\n",
        "\n",
        "    assert response.status_code == 200\n",
        "    assert response.request.method == 'GET'\n",
        "    assert response.request.url == 'https://httpbin.org/get'\n",
        "    assert 'args' in response.json()\n",
        "    assert response.json()['args'] == {}\n",
        "    assert 'headers' in response.json()\n",
        "    assert 'origin' in response.json()\n",
        "    assert 'url' in response.json()\n",
        "\n",
        "test_1_perform_get_request()"
      ],
      "metadata": {
        "colab": {
          "base_uri": "https://localhost:8080/"
        },
        "id": "n8qLdZfXGG0i",
        "outputId": "811716ea-5fdd-4d0e-92c8-b21168abd0b9"
      },
      "execution_count": 66,
      "outputs": [
        {
          "output_type": "stream",
          "name": "stdout",
          "text": [
            "Status Code: 200\n",
            "header =  {'Date': 'Tue, 03 Sep 2024 22:54:20 GMT', 'Content-Type': 'application/json', 'Content-Length': '306', 'Connection': 'keep-alive', 'Server': 'gunicorn/19.9.0', 'Access-Control-Allow-Origin': '*', 'Access-Control-Allow-Credentials': 'true'}\n"
          ]
        }
      ]
    },
    {
      "cell_type": "markdown",
      "source": [
        "#  2: Perform a GET request with parameters\n",
        "\n"
      ],
      "metadata": {
        "id": "UkK5i90U0deA"
      }
    },
    {
      "cell_type": "code",
      "source": [
        "def perform_get_request_with_params():\n",
        "    \"\"\"Perform GET request to given URL sending any parameter and return the response\"\"\"\n",
        "    # HINT: you should add the GET parameters at the end of the url\n",
        "    params = {\n",
        "    'q': 'Python language'\n",
        "}\n",
        "    url = 'https://httpbin.org/get'\n",
        "    resp = requests.get(url, params=params)\n",
        "    return resp\n",
        "\n",
        "perform_get_request_with_params().json()"
      ],
      "metadata": {
        "colab": {
          "base_uri": "https://localhost:8080/"
        },
        "id": "mvigdkd8zaVL",
        "outputId": "1c209b1b-3154-41fd-aa42-1f657c484a00"
      },
      "execution_count": 28,
      "outputs": [
        {
          "output_type": "execute_result",
          "data": {
            "text/plain": [
              "{'args': {'q': 'Python language'},\n",
              " 'headers': {'Accept': '*/*',\n",
              "  'Accept-Encoding': 'gzip, deflate',\n",
              "  'Host': 'httpbin.org',\n",
              "  'User-Agent': 'python-requests/2.32.3',\n",
              "  'X-Amzn-Trace-Id': 'Root=1-66d78db5-2548b74d0a548ae97f084786'},\n",
              " 'origin': '34.16.204.63',\n",
              " 'url': 'https://httpbin.org/get?q=Python+language'}"
            ]
          },
          "metadata": {},
          "execution_count": 28
        }
      ]
    },
    {
      "cell_type": "markdown",
      "source": [
        "## Test 2"
      ],
      "metadata": {
        "id": "a0KVL4Er1cla"
      }
    },
    {
      "cell_type": "code",
      "source": [
        "def test_2_perform_get_request_with_params():\n",
        "    response = perform_get_request_with_params()\n",
        "\n",
        "    assert response.status_code == 200\n",
        "    assert response.request.method == 'GET'\n",
        "    assert response.request.url.startswith('https://httpbin.org/get?')\n",
        "    assert 'args' in response.json()\n",
        "    assert response.json()['args'] != {}\n",
        "    assert 'headers' in response.json()\n",
        "    assert 'origin' in response.json()\n",
        "    assert 'url' in response.json()\n",
        "\n",
        "test_2_perform_get_request_with_params()"
      ],
      "metadata": {
        "id": "TmJhZBLD-TLN"
      },
      "execution_count": 31,
      "outputs": []
    },
    {
      "cell_type": "markdown",
      "source": [
        "# 3: Perform a POST request"
      ],
      "metadata": {
        "id": "9aVxdcQ6_QVi"
      }
    },
    {
      "cell_type": "code",
      "source": [
        "def perform_post_request():\n",
        "    \"\"\"Perform POST request to given URL sending given data and return the response\"\"\"\n",
        "    url = 'https://httpbin.org/post'\n",
        "    data = {\n",
        "        'first_name': 'Guido',\n",
        "        'last_name': 'van Rossum'\n",
        "    }\n",
        "    response = requests.post(url, json=data)\n",
        "    return response"
      ],
      "metadata": {
        "id": "5ciqgBzOzbcn"
      },
      "execution_count": 36,
      "outputs": []
    },
    {
      "cell_type": "markdown",
      "source": [
        "## Test 3"
      ],
      "metadata": {
        "id": "4EJNq8ysAj8h"
      }
    },
    {
      "cell_type": "code",
      "source": [
        "def test_3_perform_post_request():\n",
        "    response = perform_post_request()\n",
        "\n",
        "    expected = {\n",
        "        'first_name': 'Guido',\n",
        "        'last_name': 'van Rossum'\n",
        "    }\n",
        "\n",
        "    assert response.status_code == 200\n",
        "    assert response.request.method == 'POST'\n",
        "    assert response.request.url == 'https://httpbin.org/post'\n",
        "    assert response.json()['json'] == expected\n",
        "\n",
        "test_3_perform_post_request()"
      ],
      "metadata": {
        "id": "Mwi3fwzLAnwL"
      },
      "execution_count": 37,
      "outputs": []
    },
    {
      "cell_type": "markdown",
      "source": [
        "# 4: Perform a PUT request"
      ],
      "metadata": {
        "id": "zMhqDdbVCab1"
      }
    },
    {
      "cell_type": "code",
      "source": [
        "def perform_put_request():\n",
        "    \"\"\"Perform PUT request to given URL sending given data and return the response\"\"\"\n",
        "    url = 'https://httpbin.org/put'\n",
        "    data = {\n",
        "        'first_name': 'Guido',\n",
        "        'last_name': 'van Rossum'\n",
        "    }\n",
        "    response = requests.put(url, json=data)\n",
        "    return response"
      ],
      "metadata": {
        "id": "fTnPm9-Pzft-"
      },
      "execution_count": 39,
      "outputs": []
    },
    {
      "cell_type": "markdown",
      "source": [
        "## Test 4"
      ],
      "metadata": {
        "id": "6WlMkJDmCcgm"
      }
    },
    {
      "cell_type": "code",
      "source": [
        "def test_4_perform_put_request():\n",
        "    response = perform_put_request()\n",
        "\n",
        "    expected = {\n",
        "        'first_name': 'Guido',\n",
        "        'last_name': 'van Rossum'\n",
        "    }\n",
        "\n",
        "    assert response.status_code == 200\n",
        "    assert response.request.method == 'PUT'\n",
        "    assert response.request.url == 'https://httpbin.org/put'\n",
        "    assert response.json()['json'] == expected\n",
        "\n",
        "test_4_perform_put_request()"
      ],
      "metadata": {
        "id": "nzwBwXpoCgD_"
      },
      "execution_count": 40,
      "outputs": []
    },
    {
      "cell_type": "markdown",
      "source": [
        "# 5: Perform a PATCH request"
      ],
      "metadata": {
        "id": "PE0Qm9QICz_7"
      }
    },
    {
      "cell_type": "code",
      "source": [
        "def perform_patch_request():\n",
        "    \"\"\"Perform PATCH request to given URL sending given data and return the response\"\"\"\n",
        "    url = 'https://httpbin.org/patch'\n",
        "    data = {\n",
        "        'first_name': 'Guido'\n",
        "    }\n",
        "    response = requests.patch(url, json=data)\n",
        "    return response"
      ],
      "metadata": {
        "id": "sUtzX00kziaM"
      },
      "execution_count": 41,
      "outputs": []
    },
    {
      "cell_type": "markdown",
      "source": [
        "## Test 5"
      ],
      "metadata": {
        "id": "VPHgNG_JC4DF"
      }
    },
    {
      "cell_type": "code",
      "source": [
        "def test_5_perform_patch_request():\n",
        "    response = perform_patch_request()\n",
        "\n",
        "    expected = {\n",
        "        'first_name': 'Guido'\n",
        "    }\n",
        "\n",
        "    assert response.status_code == 200\n",
        "    assert response.request.method == 'PATCH'\n",
        "    assert response.request.url == 'https://httpbin.org/patch'\n",
        "    assert response.json()['json'] == expected\n",
        "\n",
        "test_5_perform_patch_request()"
      ],
      "metadata": {
        "id": "SUqJ0INdC8YW"
      },
      "execution_count": 45,
      "outputs": []
    },
    {
      "cell_type": "markdown",
      "source": [
        "# 6: Perform a DELETE request"
      ],
      "metadata": {
        "id": "AdJ5Oi85DFkG"
      }
    },
    {
      "cell_type": "code",
      "source": [
        "def perform_delete_request():\n",
        "    \"\"\"Perform DELETE request to given URL and return the response\"\"\"\n",
        "    url = 'https://httpbin.org/delete'\n",
        "    response = requests.delete(url)\n",
        "    return response\n"
      ],
      "metadata": {
        "id": "2FWT6IrqzlQn"
      },
      "execution_count": 46,
      "outputs": []
    },
    {
      "cell_type": "markdown",
      "source": [
        "## Test 6"
      ],
      "metadata": {
        "id": "nzFOKymwDIuY"
      }
    },
    {
      "cell_type": "code",
      "source": [
        "def test_6_perform_delete_request():\n",
        "    response = perform_delete_request()\n",
        "\n",
        "    assert response.status_code == 200\n",
        "    assert response.request.method == 'DELETE'\n",
        "    assert response.request.url == 'https://httpbin.org/delete'\n",
        "\n",
        "test_6_perform_delete_request()"
      ],
      "metadata": {
        "id": "eSugmnIfDLfJ"
      },
      "execution_count": 47,
      "outputs": []
    },
    {
      "cell_type": "markdown",
      "source": [
        "# 7: Inspect headers during a redirect request"
      ],
      "metadata": {
        "id": "kj9FXblKDjaj"
      }
    },
    {
      "cell_type": "code",
      "source": [
        "def perform_redirect_request():\n",
        "    \"\"\"Perform a request to a redirect URL and return the Location header that come in the response\"\"\"\n",
        "    # HINT: you should use the allow_redirects parameter while doing the request\n",
        "    url = 'https://httpbin.org/redirect/1'\n",
        "    params = {\n",
        "    'url': 'https://google.com'\n",
        "}\n",
        "\n",
        "\n",
        "    response = requests.get(url, params, allow_redirects=False)\n",
        "    return response.headers['Location']"
      ],
      "metadata": {
        "id": "EsY22diDzl13"
      },
      "execution_count": 62,
      "outputs": []
    },
    {
      "cell_type": "markdown",
      "source": [
        "## Test 7"
      ],
      "metadata": {
        "id": "jXdmvRZZDnPE"
      }
    },
    {
      "cell_type": "code",
      "source": [
        "def test_7_perform_redirect_request():\n",
        "    location_header = perform_redirect_request()\n",
        "\n",
        "    assert location_header == '/get'\n",
        "\n",
        "test_7_perform_redirect_request()"
      ],
      "metadata": {
        "id": "rFUij3LaDpsq"
      },
      "execution_count": 63,
      "outputs": []
    }
  ]
}