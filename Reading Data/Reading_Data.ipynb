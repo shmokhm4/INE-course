{
  "cells": [
    {
      "cell_type": "markdown",
      "metadata": {
        "id": "TPDr3rDIqDk9"
      },
      "source": [
        "![rmotr](https://user-images.githubusercontent.com/7065401/52071918-bda15380-2562-11e9-828c-7f95297e4a82.png)\n",
        "<hr style=\"margin-bottom: 40px;\">\n",
        "\n",
        "<img src=\"https://user-images.githubusercontent.com/7065401/68886973-eca24380-06f6-11ea-8327-3e9a22e22b43.png\"\n",
        "    style=\"width:400px; float: right; margin: 0 40px 40px 40px;\"></img>\n",
        "\n",
        "### Project\n",
        "\n",
        "# Health and Obesity trends\n",
        "\n",
        "Let's put in practice the topics covered in the course and analyze health and obesity trends."
      ]
    },
    {
      "cell_type": "markdown",
      "metadata": {
        "id": "A5796pjPqDlB"
      },
      "source": [
        "![purple-divider](https://user-images.githubusercontent.com/7065401/52071927-c1cd7100-2562-11e9-908a-dde91ba14e59.png)\n",
        "\n",
        "## Hands on!"
      ]
    },
    {
      "cell_type": "code",
      "execution_count": 4,
      "metadata": {
        "id": "2jNCSsSqqDlD"
      },
      "outputs": [],
      "source": [
        "import numpy as np\n",
        "import pandas as pd\n",
        "import sqlite3\n",
        "import requests\n",
        "\n",
        "%matplotlib inline"
      ]
    },
    {
      "cell_type": "markdown",
      "metadata": {
        "id": "Gjn6ucU2qDlF"
      },
      "source": [
        "![green-divider](https://user-images.githubusercontent.com/7065401/52071924-c003ad80-2562-11e9-8297-1c6595f8a7ff.png)\n",
        "\n",
        "### Read the dump of `USDA Food Composition Database` into a `food_df` DataFrame variable.\n",
        "\n",
        "The National Nutrient Database (NNDB) is provided by the [USDA](https://ndb.nal.usda.gov/ndb/) to allow the public to get standardized information on foods. They document the database and all supporting information on the USDA website.\n",
        "\n",
        "> Although the file format says \"txt\", we call these plain CSVs files and read it using `read_csv` method. Be aware of parsing correctly `NaN` values, data separator, encoding, quotechar and any other parsing option you think necessary.\n",
        "\n",
        "Here's a preview of that file:"
      ]
    },
    {
      "cell_type": "code",
      "execution_count": 5,
      "metadata": {
        "colab": {
          "base_uri": "https://localhost:8080/"
        },
        "id": "2Ig__aQbqDlG",
        "outputId": "61ba5527-7064-4d9a-ab83-96043e4f97f0"
      },
      "outputs": [
        {
          "output_type": "stream",
          "name": "stdout",
          "text": [
            "~01001~^~0100~^~Butter, salted~^~BUTTER,WITH SALT~^^^~Y~^^0^^6.38^4.27^8.79^3.87\r\n",
            "~01002~^~0100~^~Butter, whipped, with salt~^~BUTTER,WHIPPED,W/ SALT~^^^~Y~^^0^^6.38^^^\r\n",
            "~01003~^~0100~^~Butter oil, anhydrous~^~BUTTER OIL,ANHYDROUS~^^^~Y~^^0^^6.38^4.27^8.79^3.87\r\n",
            "~01004~^~0100~^~Cheese, blue~^~CHEESE,BLUE~^^^~Y~^^0^^6.38^4.27^8.79^3.87\r\n",
            "~01005~^~0100~^~Cheese, brick~^~CHEESE,BRICK~^^^~Y~^^0^^6.38^4.27^8.79^3.87\r\n",
            "~01006~^~0100~^~Cheese, brie~^~CHEESE,BRIE~^^^~Y~^^0^^6.38^4.27^8.79^3.87\r\n",
            "~01007~^~0100~^~Cheese, camembert~^~CHEESE,CAMEMBERT~^^^~Y~^^0^^6.38^4.27^8.79^3.87\r\n",
            "~01008~^~0100~^~Cheese, caraway~^~CHEESE,CARAWAY~^^^^^0^^6.38^4.27^8.79^3.87\r\n",
            "~01009~^~0100~^~Cheese, cheddar (Includes foods for USDA's Food Distribution Program)~^~CHEESE,CHEDDAR~^^^~Y~^^0^^^^^\r\n",
            "~01010~^~0100~^~Cheese, cheshire~^~CHEESE,CHESHIRE~^^^^^0^^6.38^4.27^8.79^3.87\r\n"
          ]
        }
      ],
      "source": [
        "!head /content/FOOD_DES.txt"
      ]
    },
    {
      "cell_type": "markdown",
      "metadata": {
        "id": "7N1xhPO9qDlH"
      },
      "source": [
        "The column names are taken from the original documentation for this dataset.\n",
        "\n",
        "> Use the given column names while reading the data."
      ]
    },
    {
      "cell_type": "code",
      "execution_count": 6,
      "metadata": {
        "id": "Eb076BmOqDlJ"
      },
      "outputs": [],
      "source": [
        "column_names = ['NDB_No', 'FdGrp_Cd', 'Long_Desc', 'Shrt_Desc', 'ComName',\n",
        "                'ManufacName', 'Survey', 'Ref_desc', 'Refuse', 'SciName',\n",
        "                'N_Factor', 'Pro_Factor', 'Fat_Factor', 'CHO_Factor']"
      ]
    },
    {
      "cell_type": "code",
      "execution_count": 24,
      "metadata": {
        "colab": {
          "base_uri": "https://localhost:8080/",
          "height": 330
        },
        "id": "xweJG5cAqDlJ",
        "outputId": "6fdd3d2c-32f4-4f87-f37e-d01fcdfa2c94"
      },
      "outputs": [
        {
          "output_type": "execute_result",
          "data": {
            "text/plain": [
              "   NDB_No  FdGrp_Cd                   Long_Desc               Shrt_Desc  \\\n",
              "0    1001       100              Butter, salted        BUTTER,WITH SALT   \n",
              "1    1002       100  Butter, whipped, with salt  BUTTER,WHIPPED,W/ SALT   \n",
              "2    1003       100       Butter oil, anhydrous    BUTTER OIL,ANHYDROUS   \n",
              "3    1004       100                Cheese, blue             CHEESE,BLUE   \n",
              "4    1005       100               Cheese, brick            CHEESE,BRICK   \n",
              "\n",
              "  ComName ManufacName Survey Ref_desc  Refuse SciName  N_Factor  Pro_Factor  \\\n",
              "0     NaN         NaN      Y      NaN     0.0     NaN      6.38        4.27   \n",
              "1     NaN         NaN      Y      NaN     0.0     NaN      6.38         NaN   \n",
              "2     NaN         NaN      Y      NaN     0.0     NaN      6.38        4.27   \n",
              "3     NaN         NaN      Y      NaN     0.0     NaN      6.38        4.27   \n",
              "4     NaN         NaN      Y      NaN     0.0     NaN      6.38        4.27   \n",
              "\n",
              "   Fat_Factor  CHO_Factor  \n",
              "0        8.79        3.87  \n",
              "1         NaN         NaN  \n",
              "2        8.79        3.87  \n",
              "3        8.79        3.87  \n",
              "4        8.79        3.87  "
            ],
            "text/html": [
              "\n",
              "  <div id=\"df-5b3b15b2-f3f7-4c11-8d15-d4577ced12a7\" class=\"colab-df-container\">\n",
              "    <div>\n",
              "<style scoped>\n",
              "    .dataframe tbody tr th:only-of-type {\n",
              "        vertical-align: middle;\n",
              "    }\n",
              "\n",
              "    .dataframe tbody tr th {\n",
              "        vertical-align: top;\n",
              "    }\n",
              "\n",
              "    .dataframe thead th {\n",
              "        text-align: right;\n",
              "    }\n",
              "</style>\n",
              "<table border=\"1\" class=\"dataframe\">\n",
              "  <thead>\n",
              "    <tr style=\"text-align: right;\">\n",
              "      <th></th>\n",
              "      <th>NDB_No</th>\n",
              "      <th>FdGrp_Cd</th>\n",
              "      <th>Long_Desc</th>\n",
              "      <th>Shrt_Desc</th>\n",
              "      <th>ComName</th>\n",
              "      <th>ManufacName</th>\n",
              "      <th>Survey</th>\n",
              "      <th>Ref_desc</th>\n",
              "      <th>Refuse</th>\n",
              "      <th>SciName</th>\n",
              "      <th>N_Factor</th>\n",
              "      <th>Pro_Factor</th>\n",
              "      <th>Fat_Factor</th>\n",
              "      <th>CHO_Factor</th>\n",
              "    </tr>\n",
              "  </thead>\n",
              "  <tbody>\n",
              "    <tr>\n",
              "      <th>0</th>\n",
              "      <td>1001</td>\n",
              "      <td>100</td>\n",
              "      <td>Butter, salted</td>\n",
              "      <td>BUTTER,WITH SALT</td>\n",
              "      <td>NaN</td>\n",
              "      <td>NaN</td>\n",
              "      <td>Y</td>\n",
              "      <td>NaN</td>\n",
              "      <td>0.0</td>\n",
              "      <td>NaN</td>\n",
              "      <td>6.38</td>\n",
              "      <td>4.27</td>\n",
              "      <td>8.79</td>\n",
              "      <td>3.87</td>\n",
              "    </tr>\n",
              "    <tr>\n",
              "      <th>1</th>\n",
              "      <td>1002</td>\n",
              "      <td>100</td>\n",
              "      <td>Butter, whipped, with salt</td>\n",
              "      <td>BUTTER,WHIPPED,W/ SALT</td>\n",
              "      <td>NaN</td>\n",
              "      <td>NaN</td>\n",
              "      <td>Y</td>\n",
              "      <td>NaN</td>\n",
              "      <td>0.0</td>\n",
              "      <td>NaN</td>\n",
              "      <td>6.38</td>\n",
              "      <td>NaN</td>\n",
              "      <td>NaN</td>\n",
              "      <td>NaN</td>\n",
              "    </tr>\n",
              "    <tr>\n",
              "      <th>2</th>\n",
              "      <td>1003</td>\n",
              "      <td>100</td>\n",
              "      <td>Butter oil, anhydrous</td>\n",
              "      <td>BUTTER OIL,ANHYDROUS</td>\n",
              "      <td>NaN</td>\n",
              "      <td>NaN</td>\n",
              "      <td>Y</td>\n",
              "      <td>NaN</td>\n",
              "      <td>0.0</td>\n",
              "      <td>NaN</td>\n",
              "      <td>6.38</td>\n",
              "      <td>4.27</td>\n",
              "      <td>8.79</td>\n",
              "      <td>3.87</td>\n",
              "    </tr>\n",
              "    <tr>\n",
              "      <th>3</th>\n",
              "      <td>1004</td>\n",
              "      <td>100</td>\n",
              "      <td>Cheese, blue</td>\n",
              "      <td>CHEESE,BLUE</td>\n",
              "      <td>NaN</td>\n",
              "      <td>NaN</td>\n",
              "      <td>Y</td>\n",
              "      <td>NaN</td>\n",
              "      <td>0.0</td>\n",
              "      <td>NaN</td>\n",
              "      <td>6.38</td>\n",
              "      <td>4.27</td>\n",
              "      <td>8.79</td>\n",
              "      <td>3.87</td>\n",
              "    </tr>\n",
              "    <tr>\n",
              "      <th>4</th>\n",
              "      <td>1005</td>\n",
              "      <td>100</td>\n",
              "      <td>Cheese, brick</td>\n",
              "      <td>CHEESE,BRICK</td>\n",
              "      <td>NaN</td>\n",
              "      <td>NaN</td>\n",
              "      <td>Y</td>\n",
              "      <td>NaN</td>\n",
              "      <td>0.0</td>\n",
              "      <td>NaN</td>\n",
              "      <td>6.38</td>\n",
              "      <td>4.27</td>\n",
              "      <td>8.79</td>\n",
              "      <td>3.87</td>\n",
              "    </tr>\n",
              "  </tbody>\n",
              "</table>\n",
              "</div>\n",
              "    <div class=\"colab-df-buttons\">\n",
              "\n",
              "  <div class=\"colab-df-container\">\n",
              "    <button class=\"colab-df-convert\" onclick=\"convertToInteractive('df-5b3b15b2-f3f7-4c11-8d15-d4577ced12a7')\"\n",
              "            title=\"Convert this dataframe to an interactive table.\"\n",
              "            style=\"display:none;\">\n",
              "\n",
              "  <svg xmlns=\"http://www.w3.org/2000/svg\" height=\"24px\" viewBox=\"0 -960 960 960\">\n",
              "    <path d=\"M120-120v-720h720v720H120Zm60-500h600v-160H180v160Zm220 220h160v-160H400v160Zm0 220h160v-160H400v160ZM180-400h160v-160H180v160Zm440 0h160v-160H620v160ZM180-180h160v-160H180v160Zm440 0h160v-160H620v160Z\"/>\n",
              "  </svg>\n",
              "    </button>\n",
              "\n",
              "  <style>\n",
              "    .colab-df-container {\n",
              "      display:flex;\n",
              "      gap: 12px;\n",
              "    }\n",
              "\n",
              "    .colab-df-convert {\n",
              "      background-color: #E8F0FE;\n",
              "      border: none;\n",
              "      border-radius: 50%;\n",
              "      cursor: pointer;\n",
              "      display: none;\n",
              "      fill: #1967D2;\n",
              "      height: 32px;\n",
              "      padding: 0 0 0 0;\n",
              "      width: 32px;\n",
              "    }\n",
              "\n",
              "    .colab-df-convert:hover {\n",
              "      background-color: #E2EBFA;\n",
              "      box-shadow: 0px 1px 2px rgba(60, 64, 67, 0.3), 0px 1px 3px 1px rgba(60, 64, 67, 0.15);\n",
              "      fill: #174EA6;\n",
              "    }\n",
              "\n",
              "    .colab-df-buttons div {\n",
              "      margin-bottom: 4px;\n",
              "    }\n",
              "\n",
              "    [theme=dark] .colab-df-convert {\n",
              "      background-color: #3B4455;\n",
              "      fill: #D2E3FC;\n",
              "    }\n",
              "\n",
              "    [theme=dark] .colab-df-convert:hover {\n",
              "      background-color: #434B5C;\n",
              "      box-shadow: 0px 1px 3px 1px rgba(0, 0, 0, 0.15);\n",
              "      filter: drop-shadow(0px 1px 2px rgba(0, 0, 0, 0.3));\n",
              "      fill: #FFFFFF;\n",
              "    }\n",
              "  </style>\n",
              "\n",
              "    <script>\n",
              "      const buttonEl =\n",
              "        document.querySelector('#df-5b3b15b2-f3f7-4c11-8d15-d4577ced12a7 button.colab-df-convert');\n",
              "      buttonEl.style.display =\n",
              "        google.colab.kernel.accessAllowed ? 'block' : 'none';\n",
              "\n",
              "      async function convertToInteractive(key) {\n",
              "        const element = document.querySelector('#df-5b3b15b2-f3f7-4c11-8d15-d4577ced12a7');\n",
              "        const dataTable =\n",
              "          await google.colab.kernel.invokeFunction('convertToInteractive',\n",
              "                                                    [key], {});\n",
              "        if (!dataTable) return;\n",
              "\n",
              "        const docLinkHtml = 'Like what you see? Visit the ' +\n",
              "          '<a target=\"_blank\" href=https://colab.research.google.com/notebooks/data_table.ipynb>data table notebook</a>'\n",
              "          + ' to learn more about interactive tables.';\n",
              "        element.innerHTML = '';\n",
              "        dataTable['output_type'] = 'display_data';\n",
              "        await google.colab.output.renderOutput(dataTable, element);\n",
              "        const docLink = document.createElement('div');\n",
              "        docLink.innerHTML = docLinkHtml;\n",
              "        element.appendChild(docLink);\n",
              "      }\n",
              "    </script>\n",
              "  </div>\n",
              "\n",
              "\n",
              "<div id=\"df-549e04b3-9a6c-4c33-8fa0-125940b25376\">\n",
              "  <button class=\"colab-df-quickchart\" onclick=\"quickchart('df-549e04b3-9a6c-4c33-8fa0-125940b25376')\"\n",
              "            title=\"Suggest charts\"\n",
              "            style=\"display:none;\">\n",
              "\n",
              "<svg xmlns=\"http://www.w3.org/2000/svg\" height=\"24px\"viewBox=\"0 0 24 24\"\n",
              "     width=\"24px\">\n",
              "    <g>\n",
              "        <path d=\"M19 3H5c-1.1 0-2 .9-2 2v14c0 1.1.9 2 2 2h14c1.1 0 2-.9 2-2V5c0-1.1-.9-2-2-2zM9 17H7v-7h2v7zm4 0h-2V7h2v10zm4 0h-2v-4h2v4z\"/>\n",
              "    </g>\n",
              "</svg>\n",
              "  </button>\n",
              "\n",
              "<style>\n",
              "  .colab-df-quickchart {\n",
              "      --bg-color: #E8F0FE;\n",
              "      --fill-color: #1967D2;\n",
              "      --hover-bg-color: #E2EBFA;\n",
              "      --hover-fill-color: #174EA6;\n",
              "      --disabled-fill-color: #AAA;\n",
              "      --disabled-bg-color: #DDD;\n",
              "  }\n",
              "\n",
              "  [theme=dark] .colab-df-quickchart {\n",
              "      --bg-color: #3B4455;\n",
              "      --fill-color: #D2E3FC;\n",
              "      --hover-bg-color: #434B5C;\n",
              "      --hover-fill-color: #FFFFFF;\n",
              "      --disabled-bg-color: #3B4455;\n",
              "      --disabled-fill-color: #666;\n",
              "  }\n",
              "\n",
              "  .colab-df-quickchart {\n",
              "    background-color: var(--bg-color);\n",
              "    border: none;\n",
              "    border-radius: 50%;\n",
              "    cursor: pointer;\n",
              "    display: none;\n",
              "    fill: var(--fill-color);\n",
              "    height: 32px;\n",
              "    padding: 0;\n",
              "    width: 32px;\n",
              "  }\n",
              "\n",
              "  .colab-df-quickchart:hover {\n",
              "    background-color: var(--hover-bg-color);\n",
              "    box-shadow: 0 1px 2px rgba(60, 64, 67, 0.3), 0 1px 3px 1px rgba(60, 64, 67, 0.15);\n",
              "    fill: var(--button-hover-fill-color);\n",
              "  }\n",
              "\n",
              "  .colab-df-quickchart-complete:disabled,\n",
              "  .colab-df-quickchart-complete:disabled:hover {\n",
              "    background-color: var(--disabled-bg-color);\n",
              "    fill: var(--disabled-fill-color);\n",
              "    box-shadow: none;\n",
              "  }\n",
              "\n",
              "  .colab-df-spinner {\n",
              "    border: 2px solid var(--fill-color);\n",
              "    border-color: transparent;\n",
              "    border-bottom-color: var(--fill-color);\n",
              "    animation:\n",
              "      spin 1s steps(1) infinite;\n",
              "  }\n",
              "\n",
              "  @keyframes spin {\n",
              "    0% {\n",
              "      border-color: transparent;\n",
              "      border-bottom-color: var(--fill-color);\n",
              "      border-left-color: var(--fill-color);\n",
              "    }\n",
              "    20% {\n",
              "      border-color: transparent;\n",
              "      border-left-color: var(--fill-color);\n",
              "      border-top-color: var(--fill-color);\n",
              "    }\n",
              "    30% {\n",
              "      border-color: transparent;\n",
              "      border-left-color: var(--fill-color);\n",
              "      border-top-color: var(--fill-color);\n",
              "      border-right-color: var(--fill-color);\n",
              "    }\n",
              "    40% {\n",
              "      border-color: transparent;\n",
              "      border-right-color: var(--fill-color);\n",
              "      border-top-color: var(--fill-color);\n",
              "    }\n",
              "    60% {\n",
              "      border-color: transparent;\n",
              "      border-right-color: var(--fill-color);\n",
              "    }\n",
              "    80% {\n",
              "      border-color: transparent;\n",
              "      border-right-color: var(--fill-color);\n",
              "      border-bottom-color: var(--fill-color);\n",
              "    }\n",
              "    90% {\n",
              "      border-color: transparent;\n",
              "      border-bottom-color: var(--fill-color);\n",
              "    }\n",
              "  }\n",
              "</style>\n",
              "\n",
              "  <script>\n",
              "    async function quickchart(key) {\n",
              "      const quickchartButtonEl =\n",
              "        document.querySelector('#' + key + ' button');\n",
              "      quickchartButtonEl.disabled = true;  // To prevent multiple clicks.\n",
              "      quickchartButtonEl.classList.add('colab-df-spinner');\n",
              "      try {\n",
              "        const charts = await google.colab.kernel.invokeFunction(\n",
              "            'suggestCharts', [key], {});\n",
              "      } catch (error) {\n",
              "        console.error('Error during call to suggestCharts:', error);\n",
              "      }\n",
              "      quickchartButtonEl.classList.remove('colab-df-spinner');\n",
              "      quickchartButtonEl.classList.add('colab-df-quickchart-complete');\n",
              "    }\n",
              "    (() => {\n",
              "      let quickchartButtonEl =\n",
              "        document.querySelector('#df-549e04b3-9a6c-4c33-8fa0-125940b25376 button');\n",
              "      quickchartButtonEl.style.display =\n",
              "        google.colab.kernel.accessAllowed ? 'block' : 'none';\n",
              "    })();\n",
              "  </script>\n",
              "</div>\n",
              "\n",
              "    </div>\n",
              "  </div>\n"
            ],
            "application/vnd.google.colaboratory.intrinsic+json": {
              "type": "dataframe",
              "variable_name": "food_df",
              "summary": "{\n  \"name\": \"food_df\",\n  \"rows\": 2429,\n  \"fields\": [\n    {\n      \"column\": \"NDB_No\",\n      \"properties\": {\n        \"dtype\": \"number\",\n        \"std\": 2969,\n        \"min\": 1001,\n        \"max\": 10994,\n        \"num_unique_values\": 2429,\n        \"samples\": [\n          10977,\n          7254,\n          4690\n        ],\n        \"semantic_type\": \"\",\n        \"description\": \"\"\n      }\n    },\n    {\n      \"column\": \"FdGrp_Cd\",\n      \"properties\": {\n        \"dtype\": \"number\",\n        \"std\": 296,\n        \"min\": 100,\n        \"max\": 2500,\n        \"num_unique_values\": 11,\n        \"samples\": [\n          600,\n          100,\n          900\n        ],\n        \"semantic_type\": \"\",\n        \"description\": \"\"\n      }\n    },\n    {\n      \"column\": \"Long_Desc\",\n      \"properties\": {\n        \"dtype\": \"string\",\n        \"num_unique_values\": 2429,\n        \"samples\": [\n          \"Pork, ground, 72% lean / 28% fat, cooked, pan-broiled\",\n          \"Bacon, turkey, unprepared\",\n          \"Margarine-like, vegetable oil spread, approximately 37% fat, unspecified oils, with salt, with added vitamin D\"\n        ],\n        \"semantic_type\": \"\",\n        \"description\": \"\"\n      }\n    },\n    {\n      \"column\": \"Shrt_Desc\",\n      \"properties\": {\n        \"dtype\": \"string\",\n        \"num_unique_values\": 2428,\n        \"samples\": [\n          \"DUCK,WILD,BREAST,MEAT ONLY,RAW\",\n          \"SOUP,BF NOODLE,CND,COND\",\n          \"INF FORMULA, ABBOTT, SIMILAC, NEOSURE, PDR, W/ ARA & DHA\"\n        ],\n        \"semantic_type\": \"\",\n        \"description\": \"\"\n      }\n    },\n    {\n      \"column\": \"ComName\",\n      \"properties\": {\n        \"dtype\": \"category\",\n        \"num_unique_values\": 60,\n        \"samples\": [\n          \"Cassia\",\n          \"NuSun\",\n          \"URMIS #3313, Center loin chops, Centercut pork loin chops, centercut pork chops\"\n        ],\n        \"semantic_type\": \"\",\n        \"description\": \"\"\n      }\n    },\n    {\n      \"column\": \"ManufacName\",\n      \"properties\": {\n        \"dtype\": \"category\",\n        \"num_unique_values\": 42,\n        \"samples\": [\n          \"The Quaker Oats, Co.\",\n          \"ADM KAO LLC\",\n          \"PBM\"\n        ],\n        \"semantic_type\": \"\",\n        \"description\": \"\"\n      }\n    },\n    {\n      \"column\": \"Survey\",\n      \"properties\": {\n        \"dtype\": \"category\",\n        \"num_unique_values\": 1,\n        \"samples\": [\n          \"Y\"\n        ],\n        \"semantic_type\": \"\",\n        \"description\": \"\"\n      }\n    },\n    {\n      \"column\": \"Ref_desc\",\n      \"properties\": {\n        \"dtype\": \"category\",\n        \"num_unique_values\": 368,\n        \"samples\": [\n          \"Caps and spoiled berries\"\n        ],\n        \"semantic_type\": \"\",\n        \"description\": \"\"\n      }\n    },\n    {\n      \"column\": \"Refuse\",\n      \"properties\": {\n        \"dtype\": \"number\",\n        \"std\": 14.613298875825764,\n        \"min\": 0.0,\n        \"max\": 75.0,\n        \"num_unique_values\": 71,\n        \"samples\": [\n          23.0\n        ],\n        \"semantic_type\": \"\",\n        \"description\": \"\"\n      }\n    },\n    {\n      \"column\": \"SciName\",\n      \"properties\": {\n        \"dtype\": \"category\",\n        \"num_unique_values\": 137,\n        \"samples\": [\n          \"Diospyros virginiana\"\n        ],\n        \"semantic_type\": \"\",\n        \"description\": \"\"\n      }\n    },\n    {\n      \"column\": \"N_Factor\",\n      \"properties\": {\n        \"dtype\": \"number\",\n        \"std\": 1.313108192604846,\n        \"min\": 0.0,\n        \"max\": 6.93,\n        \"num_unique_values\": 32,\n        \"samples\": [\n          1.36\n        ],\n        \"semantic_type\": \"\",\n        \"description\": \"\"\n      }\n    },\n    {\n      \"column\": \"Pro_Factor\",\n      \"properties\": {\n        \"dtype\": \"number\",\n        \"std\": 0.5014743417305711,\n        \"min\": 1.82,\n        \"max\": 4.36,\n        \"num_unique_values\": 33,\n        \"samples\": [\n          3.59\n        ],\n        \"semantic_type\": \"\",\n        \"description\": \"\"\n      }\n    },\n    {\n      \"column\": \"Fat_Factor\",\n      \"properties\": {\n        \"dtype\": \"number\",\n        \"std\": 0.3136422892410495,\n        \"min\": 4.0,\n        \"max\": 9.04,\n        \"num_unique_values\": 18,\n        \"samples\": [\n          8.79\n        ],\n        \"semantic_type\": \"\",\n        \"description\": \"\"\n      }\n    },\n    {\n      \"column\": \"CHO_Factor\",\n      \"properties\": {\n        \"dtype\": \"number\",\n        \"std\": 0.22468780640972974,\n        \"min\": 1.95,\n        \"max\": 4.27,\n        \"num_unique_values\": 40,\n        \"samples\": [\n          3.19\n        ],\n        \"semantic_type\": \"\",\n        \"description\": \"\"\n      }\n    }\n  ]\n}"
            }
          },
          "metadata": {},
          "execution_count": 24
        }
      ],
      "source": [
        "# Read the dataset\n",
        "file_path = '/content/FOOD_DES.txt'\n",
        "food_df = pd.read_csv(file_path,\n",
        "                   names=column_names,\n",
        "                   sep='^',\n",
        "                   header=None,\n",
        "                   quotechar='~',\n",
        "                   encoding='iso-8859-1')\n",
        "\n",
        "# Display the first few rows\n",
        "food_df.head()"
      ]
    },
    {
      "cell_type": "markdown",
      "source": [
        "> Check for Missing Values"
      ],
      "metadata": {
        "id": "0mrqxQn_swQS"
      }
    },
    {
      "cell_type": "code",
      "source": [
        "food_df.isnull().sum()"
      ],
      "metadata": {
        "colab": {
          "base_uri": "https://localhost:8080/",
          "height": 523
        },
        "id": "_6-WolMVsnr8",
        "outputId": "d58aa052-1ec2-4db4-a67b-2509a0adb313"
      },
      "execution_count": 25,
      "outputs": [
        {
          "output_type": "execute_result",
          "data": {
            "text/plain": [
              "NDB_No            0\n",
              "FdGrp_Cd          0\n",
              "Long_Desc         0\n",
              "Shrt_Desc         0\n",
              "ComName        2344\n",
              "ManufacName    2091\n",
              "Survey         1135\n",
              "Ref_desc       1803\n",
              "Refuse            2\n",
              "SciName        2217\n",
              "N_Factor        628\n",
              "Pro_Factor      940\n",
              "Fat_Factor      848\n",
              "CHO_Factor      951\n",
              "dtype: int64"
            ],
            "text/html": [
              "<div>\n",
              "<style scoped>\n",
              "    .dataframe tbody tr th:only-of-type {\n",
              "        vertical-align: middle;\n",
              "    }\n",
              "\n",
              "    .dataframe tbody tr th {\n",
              "        vertical-align: top;\n",
              "    }\n",
              "\n",
              "    .dataframe thead th {\n",
              "        text-align: right;\n",
              "    }\n",
              "</style>\n",
              "<table border=\"1\" class=\"dataframe\">\n",
              "  <thead>\n",
              "    <tr style=\"text-align: right;\">\n",
              "      <th></th>\n",
              "      <th>0</th>\n",
              "    </tr>\n",
              "  </thead>\n",
              "  <tbody>\n",
              "    <tr>\n",
              "      <th>NDB_No</th>\n",
              "      <td>0</td>\n",
              "    </tr>\n",
              "    <tr>\n",
              "      <th>FdGrp_Cd</th>\n",
              "      <td>0</td>\n",
              "    </tr>\n",
              "    <tr>\n",
              "      <th>Long_Desc</th>\n",
              "      <td>0</td>\n",
              "    </tr>\n",
              "    <tr>\n",
              "      <th>Shrt_Desc</th>\n",
              "      <td>0</td>\n",
              "    </tr>\n",
              "    <tr>\n",
              "      <th>ComName</th>\n",
              "      <td>2344</td>\n",
              "    </tr>\n",
              "    <tr>\n",
              "      <th>ManufacName</th>\n",
              "      <td>2091</td>\n",
              "    </tr>\n",
              "    <tr>\n",
              "      <th>Survey</th>\n",
              "      <td>1135</td>\n",
              "    </tr>\n",
              "    <tr>\n",
              "      <th>Ref_desc</th>\n",
              "      <td>1803</td>\n",
              "    </tr>\n",
              "    <tr>\n",
              "      <th>Refuse</th>\n",
              "      <td>2</td>\n",
              "    </tr>\n",
              "    <tr>\n",
              "      <th>SciName</th>\n",
              "      <td>2217</td>\n",
              "    </tr>\n",
              "    <tr>\n",
              "      <th>N_Factor</th>\n",
              "      <td>628</td>\n",
              "    </tr>\n",
              "    <tr>\n",
              "      <th>Pro_Factor</th>\n",
              "      <td>940</td>\n",
              "    </tr>\n",
              "    <tr>\n",
              "      <th>Fat_Factor</th>\n",
              "      <td>848</td>\n",
              "    </tr>\n",
              "    <tr>\n",
              "      <th>CHO_Factor</th>\n",
              "      <td>951</td>\n",
              "    </tr>\n",
              "  </tbody>\n",
              "</table>\n",
              "</div><br><label><b>dtype:</b> int64</label>"
            ]
          },
          "metadata": {},
          "execution_count": 25
        }
      ]
    },
    {
      "cell_type": "markdown",
      "metadata": {
        "id": "KKKlPEamqDlK"
      },
      "source": [
        "How many products do we have?"
      ]
    },
    {
      "cell_type": "code",
      "execution_count": 26,
      "metadata": {
        "colab": {
          "base_uri": "https://localhost:8080/"
        },
        "id": "SrNzgadDqDlL",
        "outputId": "db01ed01-488a-48ad-e008-fa339f65643f"
      },
      "outputs": [
        {
          "output_type": "stream",
          "name": "stdout",
          "text": [
            "Total number of rows (products): 2429\n"
          ]
        }
      ],
      "source": [
        "total_rows = food_df.shape[0]\n",
        "\n",
        "print(f\"Total number of rows (products): {total_rows}\")"
      ]
    },
    {
      "cell_type": "markdown",
      "metadata": {
        "id": "xBULbpSkqDlM"
      },
      "source": [
        "![green-divider](https://user-images.githubusercontent.com/7065401/52071924-c003ad80-2562-11e9-8297-1c6595f8a7ff.png)\n",
        "\n",
        "### Variables distribution\n",
        "\n",
        "Analyze how values are distributed:\n",
        "\n",
        "- Create an histogram of `Refuse` variable.\n",
        "- Create a boxplot of `N_Factor` variable."
      ]
    },
    {
      "cell_type": "code",
      "execution_count": 27,
      "metadata": {
        "colab": {
          "base_uri": "https://localhost:8080/",
          "height": 447
        },
        "id": "C0yivvfqqDlN",
        "outputId": "02bc476d-a294-4fbc-eadf-03a85155f89b"
      },
      "outputs": [
        {
          "output_type": "execute_result",
          "data": {
            "text/plain": [
              "<Axes: ylabel='Frequency'>"
            ]
          },
          "metadata": {},
          "execution_count": 27
        },
        {
          "output_type": "display_data",
          "data": {
            "text/plain": [
              "<Figure size 640x480 with 1 Axes>"
            ],
            "image/png": "[encoded data removed]"
          },
          "metadata": {}
        }
      ],
      "source": [
        "food_df['Refuse'].plot(kind='hist')"
      ]
    },
    {
      "cell_type": "code",
      "execution_count": 28,
      "metadata": {
        "colab": {
          "base_uri": "https://localhost:8080/",
          "height": 447
        },
        "id": "o--y7hxLqDlN",
        "outputId": "7e5b653e-391c-44c6-9735-159d2acb9a07"
      },
      "outputs": [
        {
          "output_type": "execute_result",
          "data": {
            "text/plain": [
              "<Axes: >"
            ]
          },
          "metadata": {},
          "execution_count": 28
        },
        {
          "output_type": "display_data",
          "data": {
            "text/plain": [
              "<Figure size 640x480 with 1 Axes>"
            ],
            "image/png": "[encoded data removed]"
          },
          "metadata": {}
        }
      ],
      "source": [
        "food_df['N_Factor'].plot(kind='box')"
      ]
    },
    {
      "cell_type": "markdown",
      "metadata": {
        "id": "45Y9mSfPqDlN"
      },
      "source": [
        "![green-divider](https://user-images.githubusercontent.com/7065401/52071924-c003ad80-2562-11e9-8297-1c6595f8a7ff.png)\n",
        "\n",
        "### Which are the top-10 food manufacturers with more products on `food_df`."
      ]
    },
    {
      "cell_type": "code",
      "execution_count": 29,
      "metadata": {
        "colab": {
          "base_uri": "https://localhost:8080/"
        },
        "id": "1iuZNUasqDlN",
        "outputId": "e6122c30-f98b-4e15-937a-46810a0b36e1"
      },
      "outputs": [
        {
          "output_type": "stream",
          "name": "stdout",
          "text": [
            "Top 10 Food Manufacturers with Most Products:\n",
            "ManufacName\n",
            "The Quaker Oats, Co.    71\n",
            "MEAD JOHNSON            40\n",
            "MOM Brands              31\n",
            "ABBOT NUTRTION          26\n",
            "Post Foods, LLC         21\n",
            "Kraft Foods, Inc.       18\n",
            "Chobani                 17\n",
            "B&G Foods, Inc          13\n",
            "GERBER                  12\n",
            "Campbell Soup Co.       10\n",
            "Name: count, dtype: int64\n"
          ]
        }
      ],
      "source": [
        "# Count the number of products for each manufacturer\n",
        "top_manufacturers = food_df['ManufacName'].value_counts().head(10)\n",
        "\n",
        "print(\"Top 10 Food Manufacturers with Most Products:\")\n",
        "print(top_manufacturers)"
      ]
    },
    {
      "cell_type": "markdown",
      "metadata": {
        "id": "RgNhC0_SqDlO"
      },
      "source": [
        "Also create a bar plot showing that results."
      ]
    },
    {
      "cell_type": "code",
      "source": [
        "food_df['ManufacName'].value_counts()[:10].plot(kind='bar')"
      ],
      "metadata": {
        "colab": {
          "base_uri": "https://localhost:8080/",
          "height": 600
        },
        "id": "rj0j4_VYusy4",
        "outputId": "29f46102-4e5c-41b9-bbbf-bda006747a38"
      },
      "execution_count": 33,
      "outputs": [
        {
          "output_type": "execute_result",
          "data": {
            "text/plain": [
              "<Axes: xlabel='ManufacName'>"
            ]
          },
          "metadata": {},
          "execution_count": 33
        },
        {
          "output_type": "display_data",
          "data": {
            "text/plain": [
              "<Figure size 640x480 with 1 Axes>"
            ],
            "image/png": "[encoded data removed]"
          },
          "metadata": {}
        }
      ]
    },
    {
      "cell_type": "code",
      "source": [
        "import matplotlib.pyplot as plt"
      ],
      "metadata": {
        "id": "wl_5q4bQugJc"
      },
      "execution_count": 31,
      "outputs": []
    },
    {
      "cell_type": "code",
      "execution_count": 32,
      "metadata": {
        "colab": {
          "base_uri": "https://localhost:8080/",
          "height": 517
        },
        "id": "-UQVSa7UqDlO",
        "outputId": "cf8d195a-1958-4e52-dea8-40fa55a04a47"
      },
      "outputs": [
        {
          "output_type": "display_data",
          "data": {
            "text/plain": [
              "<Figure size 1000x600 with 1 Axes>"
            ],
            "image/png": "[encoded data removed]"
          },
          "metadata": {}
        }
      ],
      "source": [
        "# your code goes here\n",
        "plt.figure(figsize=(10, 6))\n",
        "top_manufacturers.plot(kind='bar', color='skyblue', edgecolor='black')\n",
        "plt.title('Top 10 Food Manufacturers with Most Products', fontsize=16)\n",
        "plt.xlabel('Manufacturer Name', fontsize=14)\n",
        "plt.ylabel('Number of Products', fontsize=14)\n",
        "plt.xticks(rotation=45, ha='right', fontsize=12)\n",
        "plt.grid(axis='y', linestyle='--', alpha=0.7)\n",
        "plt.tight_layout()  # Adjust layout to prevent label overlap\n",
        "plt.show()"
      ]
    },
    {
      "cell_type": "markdown",
      "metadata": {
        "id": "tuQIiEnqqDlO"
      },
      "source": [
        "![green-divider](https://user-images.githubusercontent.com/7065401/52071924-c003ad80-2562-11e9-8297-1c6595f8a7ff.png)\n",
        "\n",
        "## Analyzing Starbucks nutrition facts\n",
        "\n",
        "Starbucks is an American coffee chain founded in Seattle. It serves both beverages and food.\n",
        "\n",
        "<img width=\"650\" alt=\"Starbucks\" src=\"https://user-images.githubusercontent.com/7065401/68891327-57f01380-06ff-11ea-8461-eb35ba0c3bb0.png\">\n",
        "\n",
        "We'll analyze the nutritional information for Starbucks’ drink menu items using this [Nutrition facts for Starbucks drinks](https://www.kaggle.com/starbucks/starbucks) data. All nutritional information for drinks are for a 12oz serving size."
      ]
    },
    {
      "cell_type": "markdown",
      "metadata": {
        "id": "DKeJic7bqDlP"
      },
      "source": [
        "![green-divider](https://user-images.githubusercontent.com/7065401/52071924-c003ad80-2562-11e9-8297-1c6595f8a7ff.png)\n",
        "\n",
        "### Getting Starbucks' drinks information\n",
        "\n",
        "- Create an sqlite3 connection to the `starbucks.db` SQLite3 database.\n",
        "- Read from the `drinks` table just the items with more than 100 calories and save them to a `drinks_df` DataFrame variable."
      ]
    },
    {
      "cell_type": "code",
      "execution_count": 34,
      "metadata": {
        "id": "fgjvz58wqDlP"
      },
      "outputs": [],
      "source": [
        "# Connect to the SQLite database\n",
        "conn = sqlite3.connect('/content/starbucks.db')"
      ]
    },
    {
      "cell_type": "code",
      "source": [
        "# SQL query to select drinks with more than 100 calories\n",
        "query = \"\"\"\n",
        "SELECT *\n",
        "FROM drinks\n",
        "WHERE Calories > 100;\n",
        "\"\"\"\n",
        "\n",
        "# Execute query and load data into a DataFrame\n",
        "drinks_df = pd.read_sql_query(query, conn)\n",
        "conn.close()\n",
        "# Display the first few rows\n",
        "drinks_df.head()"
      ],
      "metadata": {
        "colab": {
          "base_uri": "https://localhost:8080/",
          "height": 206
        },
        "id": "Kc89R8TOvRpp",
        "outputId": "603473f1-77d6-4f33-ec13-48a3a2d6e234"
      },
      "execution_count": 36,
      "outputs": [
        {
          "output_type": "execute_result",
          "data": {
            "text/plain": [
              "                                         Item  Calories  Fat  Carb  Fiber  \\\n",
              "0     Evolution Fresh™ Organic Ginger Limeade     110.0  0.0  28.0    0.0   \n",
              "1      Iced Espresso Classics - Vanilla Latte     130.0  2.5  21.0    0.0   \n",
              "2        Iced Espresso Classics - Caffe Mocha     140.0  2.5  23.0    0.0   \n",
              "3  Iced Espresso Classics - Caramel Macchiato     130.0  2.5  21.0    0.0   \n",
              "4                   Tazo® Bottled Black Mango     150.0  0.0  38.0    0.0   \n",
              "\n",
              "   Protein  Sodium  \n",
              "0      0.0     5.0  \n",
              "1      5.0    65.0  \n",
              "2      5.0    90.0  \n",
              "3      5.0    65.0  \n",
              "4      0.0    15.0  "
            ],
            "text/html": [
              "\n",
              "  <div id=\"df-325c5000-60bb-491d-86e7-6db892535c94\" class=\"colab-df-container\">\n",
              "    <div>\n",
              "<style scoped>\n",
              "    .dataframe tbody tr th:only-of-type {\n",
              "        vertical-align: middle;\n",
              "    }\n",
              "\n",
              "    .dataframe tbody tr th {\n",
              "        vertical-align: top;\n",
              "    }\n",
              "\n",
              "    .dataframe thead th {\n",
              "        text-align: right;\n",
              "    }\n",
              "</style>\n",
              "<table border=\"1\" class=\"dataframe\">\n",
              "  <thead>\n",
              "    <tr style=\"text-align: right;\">\n",
              "      <th></th>\n",
              "      <th>Item</th>\n",
              "      <th>Calories</th>\n",
              "      <th>Fat</th>\n",
              "      <th>Carb</th>\n",
              "      <th>Fiber</th>\n",
              "      <th>Protein</th>\n",
              "      <th>Sodium</th>\n",
              "    </tr>\n",
              "  </thead>\n",
              "  <tbody>\n",
              "    <tr>\n",
              "      <th>0</th>\n",
              "      <td>Evolution Fresh™ Organic Ginger Limeade</td>\n",
              "      <td>110.0</td>\n",
              "      <td>0.0</td>\n",
              "      <td>28.0</td>\n",
              "      <td>0.0</td>\n",
              "      <td>0.0</td>\n",
              "      <td>5.0</td>\n",
              "    </tr>\n",
              "    <tr>\n",
              "      <th>1</th>\n",
              "      <td>Iced Espresso Classics - Vanilla Latte</td>\n",
              "      <td>130.0</td>\n",
              "      <td>2.5</td>\n",
              "      <td>21.0</td>\n",
              "      <td>0.0</td>\n",
              "      <td>5.0</td>\n",
              "      <td>65.0</td>\n",
              "    </tr>\n",
              "    <tr>\n",
              "      <th>2</th>\n",
              "      <td>Iced Espresso Classics - Caffe Mocha</td>\n",
              "      <td>140.0</td>\n",
              "      <td>2.5</td>\n",
              "      <td>23.0</td>\n",
              "      <td>0.0</td>\n",
              "      <td>5.0</td>\n",
              "      <td>90.0</td>\n",
              "    </tr>\n",
              "    <tr>\n",
              "      <th>3</th>\n",
              "      <td>Iced Espresso Classics - Caramel Macchiato</td>\n",
              "      <td>130.0</td>\n",
              "      <td>2.5</td>\n",
              "      <td>21.0</td>\n",
              "      <td>0.0</td>\n",
              "      <td>5.0</td>\n",
              "      <td>65.0</td>\n",
              "    </tr>\n",
              "    <tr>\n",
              "      <th>4</th>\n",
              "      <td>Tazo® Bottled Black Mango</td>\n",
              "      <td>150.0</td>\n",
              "      <td>0.0</td>\n",
              "      <td>38.0</td>\n",
              "      <td>0.0</td>\n",
              "      <td>0.0</td>\n",
              "      <td>15.0</td>\n",
              "    </tr>\n",
              "  </tbody>\n",
              "</table>\n",
              "</div>\n",
              "    <div class=\"colab-df-buttons\">\n",
              "\n",
              "  <div class=\"colab-df-container\">\n",
              "    <button class=\"colab-df-convert\" onclick=\"convertToInteractive('df-325c5000-60bb-491d-86e7-6db892535c94')\"\n",
              "            title=\"Convert this dataframe to an interactive table.\"\n",
              "            style=\"display:none;\">\n",
              "\n",
              "  <svg xmlns=\"http://www.w3.org/2000/svg\" height=\"24px\" viewBox=\"0 -960 960 960\">\n",
              "    <path d=\"M120-120v-720h720v720H120Zm60-500h600v-160H180v160Zm220 220h160v-160H400v160Zm0 220h160v-160H400v160ZM180-400h160v-160H180v160Zm440 0h160v-160H620v160ZM180-180h160v-160H180v160Zm440 0h160v-160H620v160Z\"/>\n",
              "  </svg>\n",
              "    </button>\n",
              "\n",
              "  <style>\n",
              "    .colab-df-container {\n",
              "      display:flex;\n",
              "      gap: 12px;\n",
              "    }\n",
              "\n",
              "    .colab-df-convert {\n",
              "      background-color: #E8F0FE;\n",
              "      border: none;\n",
              "      border-radius: 50%;\n",
              "      cursor: pointer;\n",
              "      display: none;\n",
              "      fill: #1967D2;\n",
              "      height: 32px;\n",
              "      padding: 0 0 0 0;\n",
              "      width: 32px;\n",
              "    }\n",
              "\n",
              "    .colab-df-convert:hover {\n",
              "      background-color: #E2EBFA;\n",
              "      box-shadow: 0px 1px 2px rgba(60, 64, 67, 0.3), 0px 1px 3px 1px rgba(60, 64, 67, 0.15);\n",
              "      fill: #174EA6;\n",
              "    }\n",
              "\n",
              "    .colab-df-buttons div {\n",
              "      margin-bottom: 4px;\n",
              "    }\n",
              "\n",
              "    [theme=dark] .colab-df-convert {\n",
              "      background-color: #3B4455;\n",
              "      fill: #D2E3FC;\n",
              "    }\n",
              "\n",
              "    [theme=dark] .colab-df-convert:hover {\n",
              "      background-color: #434B5C;\n",
              "      box-shadow: 0px 1px 3px 1px rgba(0, 0, 0, 0.15);\n",
              "      filter: drop-shadow(0px 1px 2px rgba(0, 0, 0, 0.3));\n",
              "      fill: #FFFFFF;\n",
              "    }\n",
              "  </style>\n",
              "\n",
              "    <script>\n",
              "      const buttonEl =\n",
              "        document.querySelector('#df-325c5000-60bb-491d-86e7-6db892535c94 button.colab-df-convert');\n",
              "      buttonEl.style.display =\n",
              "        google.colab.kernel.accessAllowed ? 'block' : 'none';\n",
              "\n",
              "      async function convertToInteractive(key) {\n",
              "        const element = document.querySelector('#df-325c5000-60bb-491d-86e7-6db892535c94');\n",
              "        const dataTable =\n",
              "          await google.colab.kernel.invokeFunction('convertToInteractive',\n",
              "                                                    [key], {});\n",
              "        if (!dataTable) return;\n",
              "\n",
              "        const docLinkHtml = 'Like what you see? Visit the ' +\n",
              "          '<a target=\"_blank\" href=https://colab.research.google.com/notebooks/data_table.ipynb>data table notebook</a>'\n",
              "          + ' to learn more about interactive tables.';\n",
              "        element.innerHTML = '';\n",
              "        dataTable['output_type'] = 'display_data';\n",
              "        await google.colab.output.renderOutput(dataTable, element);\n",
              "        const docLink = document.createElement('div');\n",
              "        docLink.innerHTML = docLinkHtml;\n",
              "        element.appendChild(docLink);\n",
              "      }\n",
              "    </script>\n",
              "  </div>\n",
              "\n",
              "\n",
              "<div id=\"df-b96bbb1d-a79f-4c14-b8fe-1c12a679966e\">\n",
              "  <button class=\"colab-df-quickchart\" onclick=\"quickchart('df-b96bbb1d-a79f-4c14-b8fe-1c12a679966e')\"\n",
              "            title=\"Suggest charts\"\n",
              "            style=\"display:none;\">\n",
              "\n",
              "<svg xmlns=\"http://www.w3.org/2000/svg\" height=\"24px\"viewBox=\"0 0 24 24\"\n",
              "     width=\"24px\">\n",
              "    <g>\n",
              "        <path d=\"M19 3H5c-1.1 0-2 .9-2 2v14c0 1.1.9 2 2 2h14c1.1 0 2-.9 2-2V5c0-1.1-.9-2-2-2zM9 17H7v-7h2v7zm4 0h-2V7h2v10zm4 0h-2v-4h2v4z\"/>\n",
              "    </g>\n",
              "</svg>\n",
              "  </button>\n",
              "\n",
              "<style>\n",
              "  .colab-df-quickchart {\n",
              "      --bg-color: #E8F0FE;\n",
              "      --fill-color: #1967D2;\n",
              "      --hover-bg-color: #E2EBFA;\n",
              "      --hover-fill-color: #174EA6;\n",
              "      --disabled-fill-color: #AAA;\n",
              "      --disabled-bg-color: #DDD;\n",
              "  }\n",
              "\n",
              "  [theme=dark] .colab-df-quickchart {\n",
              "      --bg-color: #3B4455;\n",
              "      --fill-color: #D2E3FC;\n",
              "      --hover-bg-color: #434B5C;\n",
              "      --hover-fill-color: #FFFFFF;\n",
              "      --disabled-bg-color: #3B4455;\n",
              "      --disabled-fill-color: #666;\n",
              "  }\n",
              "\n",
              "  .colab-df-quickchart {\n",
              "    background-color: var(--bg-color);\n",
              "    border: none;\n",
              "    border-radius: 50%;\n",
              "    cursor: pointer;\n",
              "    display: none;\n",
              "    fill: var(--fill-color);\n",
              "    height: 32px;\n",
              "    padding: 0;\n",
              "    width: 32px;\n",
              "  }\n",
              "\n",
              "  .colab-df-quickchart:hover {\n",
              "    background-color: var(--hover-bg-color);\n",
              "    box-shadow: 0 1px 2px rgba(60, 64, 67, 0.3), 0 1px 3px 1px rgba(60, 64, 67, 0.15);\n",
              "    fill: var(--button-hover-fill-color);\n",
              "  }\n",
              "\n",
              "  .colab-df-quickchart-complete:disabled,\n",
              "  .colab-df-quickchart-complete:disabled:hover {\n",
              "    background-color: var(--disabled-bg-color);\n",
              "    fill: var(--disabled-fill-color);\n",
              "    box-shadow: none;\n",
              "  }\n",
              "\n",
              "  .colab-df-spinner {\n",
              "    border: 2px solid var(--fill-color);\n",
              "    border-color: transparent;\n",
              "    border-bottom-color: var(--fill-color);\n",
              "    animation:\n",
              "      spin 1s steps(1) infinite;\n",
              "  }\n",
              "\n",
              "  @keyframes spin {\n",
              "    0% {\n",
              "      border-color: transparent;\n",
              "      border-bottom-color: var(--fill-color);\n",
              "      border-left-color: var(--fill-color);\n",
              "    }\n",
              "    20% {\n",
              "      border-color: transparent;\n",
              "      border-left-color: var(--fill-color);\n",
              "      border-top-color: var(--fill-color);\n",
              "    }\n",
              "    30% {\n",
              "      border-color: transparent;\n",
              "      border-left-color: var(--fill-color);\n",
              "      border-top-color: var(--fill-color);\n",
              "      border-right-color: var(--fill-color);\n",
              "    }\n",
              "    40% {\n",
              "      border-color: transparent;\n",
              "      border-right-color: var(--fill-color);\n",
              "      border-top-color: var(--fill-color);\n",
              "    }\n",
              "    60% {\n",
              "      border-color: transparent;\n",
              "      border-right-color: var(--fill-color);\n",
              "    }\n",
              "    80% {\n",
              "      border-color: transparent;\n",
              "      border-right-color: var(--fill-color);\n",
              "      border-bottom-color: var(--fill-color);\n",
              "    }\n",
              "    90% {\n",
              "      border-color: transparent;\n",
              "      border-bottom-color: var(--fill-color);\n",
              "    }\n",
              "  }\n",
              "</style>\n",
              "\n",
              "  <script>\n",
              "    async function quickchart(key) {\n",
              "      const quickchartButtonEl =\n",
              "        document.querySelector('#' + key + ' button');\n",
              "      quickchartButtonEl.disabled = true;  // To prevent multiple clicks.\n",
              "      quickchartButtonEl.classList.add('colab-df-spinner');\n",
              "      try {\n",
              "        const charts = await google.colab.kernel.invokeFunction(\n",
              "            'suggestCharts', [key], {});\n",
              "      } catch (error) {\n",
              "        console.error('Error during call to suggestCharts:', error);\n",
              "      }\n",
              "      quickchartButtonEl.classList.remove('colab-df-spinner');\n",
              "      quickchartButtonEl.classList.add('colab-df-quickchart-complete');\n",
              "    }\n",
              "    (() => {\n",
              "      let quickchartButtonEl =\n",
              "        document.querySelector('#df-b96bbb1d-a79f-4c14-b8fe-1c12a679966e button');\n",
              "      quickchartButtonEl.style.display =\n",
              "        google.colab.kernel.accessAllowed ? 'block' : 'none';\n",
              "    })();\n",
              "  </script>\n",
              "</div>\n",
              "\n",
              "    </div>\n",
              "  </div>\n"
            ],
            "application/vnd.google.colaboratory.intrinsic+json": {
              "type": "dataframe",
              "variable_name": "drinks_df",
              "summary": "{\n  \"name\": \"drinks_df\",\n  \"rows\": 58,\n  \"fields\": [\n    {\n      \"column\": \"Item\",\n      \"properties\": {\n        \"dtype\": \"string\",\n        \"num_unique_values\": 44,\n        \"samples\": [\n          \"Coffee Light Frappuccino\\u00ae Blended Coffee\",\n          \"Coconutmilk Mocha Macchiato\",\n          \"Flat White\"\n        ],\n        \"semantic_type\": \"\",\n        \"description\": \"\"\n      }\n    },\n    {\n      \"column\": \"Calories\",\n      \"properties\": {\n        \"dtype\": \"number\",\n        \"std\": 74.76460336626835,\n        \"min\": 110.0,\n        \"max\": 430.0,\n        \"num_unique_values\": 19,\n        \"samples\": [\n          110.0,\n          210.0,\n          250.0\n        ],\n        \"semantic_type\": \"\",\n        \"description\": \"\"\n      }\n    },\n    {\n      \"column\": \"Fat\",\n      \"properties\": {\n        \"dtype\": \"number\",\n        \"std\": 4.390738479118805,\n        \"min\": 0.0,\n        \"max\": 26.0,\n        \"num_unique_values\": 13,\n        \"samples\": [\n          5.0,\n          11.0,\n          0.0\n        ],\n        \"semantic_type\": \"\",\n        \"description\": \"\"\n      }\n    },\n    {\n      \"column\": \"Carb\",\n      \"properties\": {\n        \"dtype\": \"number\",\n        \"std\": 11.15817367159252,\n        \"min\": 12.0,\n        \"max\": 64.0,\n        \"num_unique_values\": 25,\n        \"samples\": [\n          34.0,\n          32.0,\n          28.0\n        ],\n        \"semantic_type\": \"\",\n        \"description\": \"\"\n      }\n    },\n    {\n      \"column\": \"Fiber\",\n      \"properties\": {\n        \"dtype\": \"number\",\n        \"std\": 1.7410213884080032,\n        \"min\": 0.0,\n        \"max\": 8.0,\n        \"num_unique_values\": 7,\n        \"samples\": [\n          0.0,\n          2.0,\n          8.0\n        ],\n        \"semantic_type\": \"\",\n        \"description\": \"\"\n      }\n    },\n    {\n      \"column\": \"Protein\",\n      \"properties\": {\n        \"dtype\": \"number\",\n        \"std\": 6.149675747284016,\n        \"min\": 0.0,\n        \"max\": 20.0,\n        \"num_unique_values\": 16,\n        \"samples\": [\n          0.0,\n          5.0,\n          12.0\n        ],\n        \"semantic_type\": \"\",\n        \"description\": \"\"\n      }\n    },\n    {\n      \"column\": \"Sodium\",\n      \"properties\": {\n        \"dtype\": \"number\",\n        \"std\": 70.98456330403965,\n        \"min\": 0.0,\n        \"max\": 240.0,\n        \"num_unique_values\": 22,\n        \"samples\": [\n          5.0,\n          180.0,\n          160.0\n        ],\n        \"semantic_type\": \"\",\n        \"description\": \"\"\n      }\n    }\n  ]\n}"
            }
          },
          "metadata": {},
          "execution_count": 36
        }
      ]
    },
    {
      "cell_type": "markdown",
      "metadata": {
        "id": "XuaboihgqDlP"
      },
      "source": [
        "![green-divider](https://user-images.githubusercontent.com/7065401/52071924-c003ad80-2562-11e9-8297-1c6595f8a7ff.png)\n",
        "\n",
        "### Which is the item with the highest calories?"
      ]
    },
    {
      "cell_type": "code",
      "execution_count": 37,
      "metadata": {
        "colab": {
          "base_uri": "https://localhost:8080/",
          "height": 89
        },
        "id": "vE1zTFX0qDlQ",
        "outputId": "cc3b7e2d-2832-4e21-d4e3-d19a5f9cb123"
      },
      "outputs": [
        {
          "output_type": "execute_result",
          "data": {
            "text/plain": [
              "                                  Item  Calories   Fat  Carb  Fiber  Protein  \\\n",
              "31  Starbucks® Signature Hot Chocolate     430.0  26.0  45.0    5.0     12.0   \n",
              "\n",
              "    Sodium  \n",
              "31   115.0  "
            ],
            "text/html": [
              "\n",
              "  <div id=\"df-2b048c20-db22-4b24-ac0e-b7707c5992f4\" class=\"colab-df-container\">\n",
              "    <div>\n",
              "<style scoped>\n",
              "    .dataframe tbody tr th:only-of-type {\n",
              "        vertical-align: middle;\n",
              "    }\n",
              "\n",
              "    .dataframe tbody tr th {\n",
              "        vertical-align: top;\n",
              "    }\n",
              "\n",
              "    .dataframe thead th {\n",
              "        text-align: right;\n",
              "    }\n",
              "</style>\n",
              "<table border=\"1\" class=\"dataframe\">\n",
              "  <thead>\n",
              "    <tr style=\"text-align: right;\">\n",
              "      <th></th>\n",
              "      <th>Item</th>\n",
              "      <th>Calories</th>\n",
              "      <th>Fat</th>\n",
              "      <th>Carb</th>\n",
              "      <th>Fiber</th>\n",
              "      <th>Protein</th>\n",
              "      <th>Sodium</th>\n",
              "    </tr>\n",
              "  </thead>\n",
              "  <tbody>\n",
              "    <tr>\n",
              "      <th>31</th>\n",
              "      <td>Starbucks® Signature Hot Chocolate</td>\n",
              "      <td>430.0</td>\n",
              "      <td>26.0</td>\n",
              "      <td>45.0</td>\n",
              "      <td>5.0</td>\n",
              "      <td>12.0</td>\n",
              "      <td>115.0</td>\n",
              "    </tr>\n",
              "  </tbody>\n",
              "</table>\n",
              "</div>\n",
              "    <div class=\"colab-df-buttons\">\n",
              "\n",
              "  <div class=\"colab-df-container\">\n",
              "    <button class=\"colab-df-convert\" onclick=\"convertToInteractive('df-2b048c20-db22-4b24-ac0e-b7707c5992f4')\"\n",
              "            title=\"Convert this dataframe to an interactive table.\"\n",
              "            style=\"display:none;\">\n",
              "\n",
              "  <svg xmlns=\"http://www.w3.org/2000/svg\" height=\"24px\" viewBox=\"0 -960 960 960\">\n",
              "    <path d=\"M120-120v-720h720v720H120Zm60-500h600v-160H180v160Zm220 220h160v-160H400v160Zm0 220h160v-160H400v160ZM180-400h160v-160H180v160Zm440 0h160v-160H620v160ZM180-180h160v-160H180v160Zm440 0h160v-160H620v160Z\"/>\n",
              "  </svg>\n",
              "    </button>\n",
              "\n",
              "  <style>\n",
              "    .colab-df-container {\n",
              "      display:flex;\n",
              "      gap: 12px;\n",
              "    }\n",
              "\n",
              "    .colab-df-convert {\n",
              "      background-color: #E8F0FE;\n",
              "      border: none;\n",
              "      border-radius: 50%;\n",
              "      cursor: pointer;\n",
              "      display: none;\n",
              "      fill: #1967D2;\n",
              "      height: 32px;\n",
              "      padding: 0 0 0 0;\n",
              "      width: 32px;\n",
              "    }\n",
              "\n",
              "    .colab-df-convert:hover {\n",
              "      background-color: #E2EBFA;\n",
              "      box-shadow: 0px 1px 2px rgba(60, 64, 67, 0.3), 0px 1px 3px 1px rgba(60, 64, 67, 0.15);\n",
              "      fill: #174EA6;\n",
              "    }\n",
              "\n",
              "    .colab-df-buttons div {\n",
              "      margin-bottom: 4px;\n",
              "    }\n",
              "\n",
              "    [theme=dark] .colab-df-convert {\n",
              "      background-color: #3B4455;\n",
              "      fill: #D2E3FC;\n",
              "    }\n",
              "\n",
              "    [theme=dark] .colab-df-convert:hover {\n",
              "      background-color: #434B5C;\n",
              "      box-shadow: 0px 1px 3px 1px rgba(0, 0, 0, 0.15);\n",
              "      filter: drop-shadow(0px 1px 2px rgba(0, 0, 0, 0.3));\n",
              "      fill: #FFFFFF;\n",
              "    }\n",
              "  </style>\n",
              "\n",
              "    <script>\n",
              "      const buttonEl =\n",
              "        document.querySelector('#df-2b048c20-db22-4b24-ac0e-b7707c5992f4 button.colab-df-convert');\n",
              "      buttonEl.style.display =\n",
              "        google.colab.kernel.accessAllowed ? 'block' : 'none';\n",
              "\n",
              "      async function convertToInteractive(key) {\n",
              "        const element = document.querySelector('#df-2b048c20-db22-4b24-ac0e-b7707c5992f4');\n",
              "        const dataTable =\n",
              "          await google.colab.kernel.invokeFunction('convertToInteractive',\n",
              "                                                    [key], {});\n",
              "        if (!dataTable) return;\n",
              "\n",
              "        const docLinkHtml = 'Like what you see? Visit the ' +\n",
              "          '<a target=\"_blank\" href=https://colab.research.google.com/notebooks/data_table.ipynb>data table notebook</a>'\n",
              "          + ' to learn more about interactive tables.';\n",
              "        element.innerHTML = '';\n",
              "        dataTable['output_type'] = 'display_data';\n",
              "        await google.colab.output.renderOutput(dataTable, element);\n",
              "        const docLink = document.createElement('div');\n",
              "        docLink.innerHTML = docLinkHtml;\n",
              "        element.appendChild(docLink);\n",
              "      }\n",
              "    </script>\n",
              "  </div>\n",
              "\n",
              "\n",
              "  <div id=\"id_08a48439-0c35-414d-9da7-53cf26f04906\">\n",
              "    <style>\n",
              "      .colab-df-generate {\n",
              "        background-color: #E8F0FE;\n",
              "        border: none;\n",
              "        border-radius: 50%;\n",
              "        cursor: pointer;\n",
              "        display: none;\n",
              "        fill: #1967D2;\n",
              "        height: 32px;\n",
              "        padding: 0 0 0 0;\n",
              "        width: 32px;\n",
              "      }\n",
              "\n",
              "      .colab-df-generate:hover {\n",
              "        background-color: #E2EBFA;\n",
              "        box-shadow: 0px 1px 2px rgba(60, 64, 67, 0.3), 0px 1px 3px 1px rgba(60, 64, 67, 0.15);\n",
              "        fill: #174EA6;\n",
              "      }\n",
              "\n",
              "      [theme=dark] .colab-df-generate {\n",
              "        background-color: #3B4455;\n",
              "        fill: #D2E3FC;\n",
              "      }\n",
              "\n",
              "      [theme=dark] .colab-df-generate:hover {\n",
              "        background-color: #434B5C;\n",
              "        box-shadow: 0px 1px 3px 1px rgba(0, 0, 0, 0.15);\n",
              "        filter: drop-shadow(0px 1px 2px rgba(0, 0, 0, 0.3));\n",
              "        fill: #FFFFFF;\n",
              "      }\n",
              "    </style>\n",
              "    <button class=\"colab-df-generate\" onclick=\"generateWithVariable('max_calories_item')\"\n",
              "            title=\"Generate code using this dataframe.\"\n",
              "            style=\"display:none;\">\n",
              "\n",
              "  <svg xmlns=\"http://www.w3.org/2000/svg\" height=\"24px\"viewBox=\"0 0 24 24\"\n",
              "       width=\"24px\">\n",
              "    <path d=\"M7,19H8.4L18.45,9,17,7.55,7,17.6ZM5,21V16.75L18.45,3.32a2,2,0,0,1,2.83,0l1.4,1.43a1.91,1.91,0,0,1,.58,1.4,1.91,1.91,0,0,1-.58,1.4L9.25,21ZM18.45,9,17,7.55Zm-12,3A5.31,5.31,0,0,0,4.9,8.1,5.31,5.31,0,0,0,1,6.5,5.31,5.31,0,0,0,4.9,4.9,5.31,5.31,0,0,0,6.5,1,5.31,5.31,0,0,0,8.1,4.9,5.31,5.31,0,0,0,12,6.5,5.46,5.46,0,0,0,6.5,12Z\"/>\n",
              "  </svg>\n",
              "    </button>\n",
              "    <script>\n",
              "      (() => {\n",
              "      const buttonEl =\n",
              "        document.querySelector('#id_08a48439-0c35-414d-9da7-53cf26f04906 button.colab-df-generate');\n",
              "      buttonEl.style.display =\n",
              "        google.colab.kernel.accessAllowed ? 'block' : 'none';\n",
              "\n",
              "      buttonEl.onclick = () => {\n",
              "        google.colab.notebook.generateWithVariable('max_calories_item');\n",
              "      }\n",
              "      })();\n",
              "    </script>\n",
              "  </div>\n",
              "\n",
              "    </div>\n",
              "  </div>\n"
            ],
            "application/vnd.google.colaboratory.intrinsic+json": {
              "type": "dataframe",
              "variable_name": "max_calories_item",
              "summary": "{\n  \"name\": \"max_calories_item\",\n  \"rows\": 1,\n  \"fields\": [\n    {\n      \"column\": \"Item\",\n      \"properties\": {\n        \"dtype\": \"string\",\n        \"num_unique_values\": 1,\n        \"samples\": [\n          \"Starbucks\\u00ae Signature Hot Chocolate\"\n        ],\n        \"semantic_type\": \"\",\n        \"description\": \"\"\n      }\n    },\n    {\n      \"column\": \"Calories\",\n      \"properties\": {\n        \"dtype\": \"number\",\n        \"std\": null,\n        \"min\": 430.0,\n        \"max\": 430.0,\n        \"num_unique_values\": 1,\n        \"samples\": [\n          430.0\n        ],\n        \"semantic_type\": \"\",\n        \"description\": \"\"\n      }\n    },\n    {\n      \"column\": \"Fat\",\n      \"properties\": {\n        \"dtype\": \"number\",\n        \"std\": null,\n        \"min\": 26.0,\n        \"max\": 26.0,\n        \"num_unique_values\": 1,\n        \"samples\": [\n          26.0\n        ],\n        \"semantic_type\": \"\",\n        \"description\": \"\"\n      }\n    },\n    {\n      \"column\": \"Carb\",\n      \"properties\": {\n        \"dtype\": \"number\",\n        \"std\": null,\n        \"min\": 45.0,\n        \"max\": 45.0,\n        \"num_unique_values\": 1,\n        \"samples\": [\n          45.0\n        ],\n        \"semantic_type\": \"\",\n        \"description\": \"\"\n      }\n    },\n    {\n      \"column\": \"Fiber\",\n      \"properties\": {\n        \"dtype\": \"number\",\n        \"std\": null,\n        \"min\": 5.0,\n        \"max\": 5.0,\n        \"num_unique_values\": 1,\n        \"samples\": [\n          5.0\n        ],\n        \"semantic_type\": \"\",\n        \"description\": \"\"\n      }\n    },\n    {\n      \"column\": \"Protein\",\n      \"properties\": {\n        \"dtype\": \"number\",\n        \"std\": null,\n        \"min\": 12.0,\n        \"max\": 12.0,\n        \"num_unique_values\": 1,\n        \"samples\": [\n          12.0\n        ],\n        \"semantic_type\": \"\",\n        \"description\": \"\"\n      }\n    },\n    {\n      \"column\": \"Sodium\",\n      \"properties\": {\n        \"dtype\": \"number\",\n        \"std\": null,\n        \"min\": 115.0,\n        \"max\": 115.0,\n        \"num_unique_values\": 1,\n        \"samples\": [\n          115.0\n        ],\n        \"semantic_type\": \"\",\n        \"description\": \"\"\n      }\n    }\n  ]\n}"
            }
          },
          "metadata": {},
          "execution_count": 37
        }
      ],
      "source": [
        "max_calories = drinks_df['Calories'].max()\n",
        "max_calories_item = drinks_df.loc[drinks_df['Calories'] == max_calories]\n",
        "max_calories_item"
      ]
    },
    {
      "cell_type": "markdown",
      "metadata": {
        "id": "DT8ZD-w4qDlQ"
      },
      "source": [
        "![green-divider](https://user-images.githubusercontent.com/7065401/52071924-c003ad80-2562-11e9-8297-1c6595f8a7ff.png)\n",
        "\n",
        "### Create two groups of items: \"`less or equal 150 calories`\" and \"`more 150 calories`\""
      ]
    },
    {
      "cell_type": "code",
      "execution_count": 38,
      "metadata": {
        "colab": {
          "base_uri": "https://localhost:8080/",
          "height": 206
        },
        "id": "kmdFnPZ6qDlQ",
        "outputId": "3f66c6e9-7ad4-46ba-de25-01ede6bac4c8"
      },
      "outputs": [
        {
          "output_type": "execute_result",
          "data": {
            "text/plain": [
              "                                         Item  Calories  Fat  Carb  Fiber  \\\n",
              "0     Evolution Fresh™ Organic Ginger Limeade     110.0  0.0  28.0    0.0   \n",
              "1      Iced Espresso Classics - Vanilla Latte     130.0  2.5  21.0    0.0   \n",
              "2        Iced Espresso Classics - Caffe Mocha     140.0  2.5  23.0    0.0   \n",
              "3  Iced Espresso Classics - Caramel Macchiato     130.0  2.5  21.0    0.0   \n",
              "4                   Tazo® Bottled Black Mango     150.0  0.0  38.0    0.0   \n",
              "\n",
              "   Protein  Sodium  \n",
              "0      0.0     5.0  \n",
              "1      5.0    65.0  \n",
              "2      5.0    90.0  \n",
              "3      5.0    65.0  \n",
              "4      0.0    15.0  "
            ],
            "text/html": [
              "\n",
              "  <div id=\"df-f0d122df-9d48-4c37-a838-f067424f2680\" class=\"colab-df-container\">\n",
              "    <div>\n",
              "<style scoped>\n",
              "    .dataframe tbody tr th:only-of-type {\n",
              "        vertical-align: middle;\n",
              "    }\n",
              "\n",
              "    .dataframe tbody tr th {\n",
              "        vertical-align: top;\n",
              "    }\n",
              "\n",
              "    .dataframe thead th {\n",
              "        text-align: right;\n",
              "    }\n",
              "</style>\n",
              "<table border=\"1\" class=\"dataframe\">\n",
              "  <thead>\n",
              "    <tr style=\"text-align: right;\">\n",
              "      <th></th>\n",
              "      <th>Item</th>\n",
              "      <th>Calories</th>\n",
              "      <th>Fat</th>\n",
              "      <th>Carb</th>\n",
              "      <th>Fiber</th>\n",
              "      <th>Protein</th>\n",
              "      <th>Sodium</th>\n",
              "    </tr>\n",
              "  </thead>\n",
              "  <tbody>\n",
              "    <tr>\n",
              "      <th>0</th>\n",
              "      <td>Evolution Fresh™ Organic Ginger Limeade</td>\n",
              "      <td>110.0</td>\n",
              "      <td>0.0</td>\n",
              "      <td>28.0</td>\n",
              "      <td>0.0</td>\n",
              "      <td>0.0</td>\n",
              "      <td>5.0</td>\n",
              "    </tr>\n",
              "    <tr>\n",
              "      <th>1</th>\n",
              "      <td>Iced Espresso Classics - Vanilla Latte</td>\n",
              "      <td>130.0</td>\n",
              "      <td>2.5</td>\n",
              "      <td>21.0</td>\n",
              "      <td>0.0</td>\n",
              "      <td>5.0</td>\n",
              "      <td>65.0</td>\n",
              "    </tr>\n",
              "    <tr>\n",
              "      <th>2</th>\n",
              "      <td>Iced Espresso Classics - Caffe Mocha</td>\n",
              "      <td>140.0</td>\n",
              "      <td>2.5</td>\n",
              "      <td>23.0</td>\n",
              "      <td>0.0</td>\n",
              "      <td>5.0</td>\n",
              "      <td>90.0</td>\n",
              "    </tr>\n",
              "    <tr>\n",
              "      <th>3</th>\n",
              "      <td>Iced Espresso Classics - Caramel Macchiato</td>\n",
              "      <td>130.0</td>\n",
              "      <td>2.5</td>\n",
              "      <td>21.0</td>\n",
              "      <td>0.0</td>\n",
              "      <td>5.0</td>\n",
              "      <td>65.0</td>\n",
              "    </tr>\n",
              "    <tr>\n",
              "      <th>4</th>\n",
              "      <td>Tazo® Bottled Black Mango</td>\n",
              "      <td>150.0</td>\n",
              "      <td>0.0</td>\n",
              "      <td>38.0</td>\n",
              "      <td>0.0</td>\n",
              "      <td>0.0</td>\n",
              "      <td>15.0</td>\n",
              "    </tr>\n",
              "  </tbody>\n",
              "</table>\n",
              "</div>\n",
              "    <div class=\"colab-df-buttons\">\n",
              "\n",
              "  <div class=\"colab-df-container\">\n",
              "    <button class=\"colab-df-convert\" onclick=\"convertToInteractive('df-f0d122df-9d48-4c37-a838-f067424f2680')\"\n",
              "            title=\"Convert this dataframe to an interactive table.\"\n",
              "            style=\"display:none;\">\n",
              "\n",
              "  <svg xmlns=\"http://www.w3.org/2000/svg\" height=\"24px\" viewBox=\"0 -960 960 960\">\n",
              "    <path d=\"M120-120v-720h720v720H120Zm60-500h600v-160H180v160Zm220 220h160v-160H400v160Zm0 220h160v-160H400v160ZM180-400h160v-160H180v160Zm440 0h160v-160H620v160ZM180-180h160v-160H180v160Zm440 0h160v-160H620v160Z\"/>\n",
              "  </svg>\n",
              "    </button>\n",
              "\n",
              "  <style>\n",
              "    .colab-df-container {\n",
              "      display:flex;\n",
              "      gap: 12px;\n",
              "    }\n",
              "\n",
              "    .colab-df-convert {\n",
              "      background-color: #E8F0FE;\n",
              "      border: none;\n",
              "      border-radius: 50%;\n",
              "      cursor: pointer;\n",
              "      display: none;\n",
              "      fill: #1967D2;\n",
              "      height: 32px;\n",
              "      padding: 0 0 0 0;\n",
              "      width: 32px;\n",
              "    }\n",
              "\n",
              "    .colab-df-convert:hover {\n",
              "      background-color: #E2EBFA;\n",
              "      box-shadow: 0px 1px 2px rgba(60, 64, 67, 0.3), 0px 1px 3px 1px rgba(60, 64, 67, 0.15);\n",
              "      fill: #174EA6;\n",
              "    }\n",
              "\n",
              "    .colab-df-buttons div {\n",
              "      margin-bottom: 4px;\n",
              "    }\n",
              "\n",
              "    [theme=dark] .colab-df-convert {\n",
              "      background-color: #3B4455;\n",
              "      fill: #D2E3FC;\n",
              "    }\n",
              "\n",
              "    [theme=dark] .colab-df-convert:hover {\n",
              "      background-color: #434B5C;\n",
              "      box-shadow: 0px 1px 3px 1px rgba(0, 0, 0, 0.15);\n",
              "      filter: drop-shadow(0px 1px 2px rgba(0, 0, 0, 0.3));\n",
              "      fill: #FFFFFF;\n",
              "    }\n",
              "  </style>\n",
              "\n",
              "    <script>\n",
              "      const buttonEl =\n",
              "        document.querySelector('#df-f0d122df-9d48-4c37-a838-f067424f2680 button.colab-df-convert');\n",
              "      buttonEl.style.display =\n",
              "        google.colab.kernel.accessAllowed ? 'block' : 'none';\n",
              "\n",
              "      async function convertToInteractive(key) {\n",
              "        const element = document.querySelector('#df-f0d122df-9d48-4c37-a838-f067424f2680');\n",
              "        const dataTable =\n",
              "          await google.colab.kernel.invokeFunction('convertToInteractive',\n",
              "                                                    [key], {});\n",
              "        if (!dataTable) return;\n",
              "\n",
              "        const docLinkHtml = 'Like what you see? Visit the ' +\n",
              "          '<a target=\"_blank\" href=https://colab.research.google.com/notebooks/data_table.ipynb>data table notebook</a>'\n",
              "          + ' to learn more about interactive tables.';\n",
              "        element.innerHTML = '';\n",
              "        dataTable['output_type'] = 'display_data';\n",
              "        await google.colab.output.renderOutput(dataTable, element);\n",
              "        const docLink = document.createElement('div');\n",
              "        docLink.innerHTML = docLinkHtml;\n",
              "        element.appendChild(docLink);\n",
              "      }\n",
              "    </script>\n",
              "  </div>\n",
              "\n",
              "\n",
              "<div id=\"df-118a4800-13f5-4125-bf7a-55dded906025\">\n",
              "  <button class=\"colab-df-quickchart\" onclick=\"quickchart('df-118a4800-13f5-4125-bf7a-55dded906025')\"\n",
              "            title=\"Suggest charts\"\n",
              "            style=\"display:none;\">\n",
              "\n",
              "<svg xmlns=\"http://www.w3.org/2000/svg\" height=\"24px\"viewBox=\"0 0 24 24\"\n",
              "     width=\"24px\">\n",
              "    <g>\n",
              "        <path d=\"M19 3H5c-1.1 0-2 .9-2 2v14c0 1.1.9 2 2 2h14c1.1 0 2-.9 2-2V5c0-1.1-.9-2-2-2zM9 17H7v-7h2v7zm4 0h-2V7h2v10zm4 0h-2v-4h2v4z\"/>\n",
              "    </g>\n",
              "</svg>\n",
              "  </button>\n",
              "\n",
              "<style>\n",
              "  .colab-df-quickchart {\n",
              "      --bg-color: #E8F0FE;\n",
              "      --fill-color: #1967D2;\n",
              "      --hover-bg-color: #E2EBFA;\n",
              "      --hover-fill-color: #174EA6;\n",
              "      --disabled-fill-color: #AAA;\n",
              "      --disabled-bg-color: #DDD;\n",
              "  }\n",
              "\n",
              "  [theme=dark] .colab-df-quickchart {\n",
              "      --bg-color: #3B4455;\n",
              "      --fill-color: #D2E3FC;\n",
              "      --hover-bg-color: #434B5C;\n",
              "      --hover-fill-color: #FFFFFF;\n",
              "      --disabled-bg-color: #3B4455;\n",
              "      --disabled-fill-color: #666;\n",
              "  }\n",
              "\n",
              "  .colab-df-quickchart {\n",
              "    background-color: var(--bg-color);\n",
              "    border: none;\n",
              "    border-radius: 50%;\n",
              "    cursor: pointer;\n",
              "    display: none;\n",
              "    fill: var(--fill-color);\n",
              "    height: 32px;\n",
              "    padding: 0;\n",
              "    width: 32px;\n",
              "  }\n",
              "\n",
              "  .colab-df-quickchart:hover {\n",
              "    background-color: var(--hover-bg-color);\n",
              "    box-shadow: 0 1px 2px rgba(60, 64, 67, 0.3), 0 1px 3px 1px rgba(60, 64, 67, 0.15);\n",
              "    fill: var(--button-hover-fill-color);\n",
              "  }\n",
              "\n",
              "  .colab-df-quickchart-complete:disabled,\n",
              "  .colab-df-quickchart-complete:disabled:hover {\n",
              "    background-color: var(--disabled-bg-color);\n",
              "    fill: var(--disabled-fill-color);\n",
              "    box-shadow: none;\n",
              "  }\n",
              "\n",
              "  .colab-df-spinner {\n",
              "    border: 2px solid var(--fill-color);\n",
              "    border-color: transparent;\n",
              "    border-bottom-color: var(--fill-color);\n",
              "    animation:\n",
              "      spin 1s steps(1) infinite;\n",
              "  }\n",
              "\n",
              "  @keyframes spin {\n",
              "    0% {\n",
              "      border-color: transparent;\n",
              "      border-bottom-color: var(--fill-color);\n",
              "      border-left-color: var(--fill-color);\n",
              "    }\n",
              "    20% {\n",
              "      border-color: transparent;\n",
              "      border-left-color: var(--fill-color);\n",
              "      border-top-color: var(--fill-color);\n",
              "    }\n",
              "    30% {\n",
              "      border-color: transparent;\n",
              "      border-left-color: var(--fill-color);\n",
              "      border-top-color: var(--fill-color);\n",
              "      border-right-color: var(--fill-color);\n",
              "    }\n",
              "    40% {\n",
              "      border-color: transparent;\n",
              "      border-right-color: var(--fill-color);\n",
              "      border-top-color: var(--fill-color);\n",
              "    }\n",
              "    60% {\n",
              "      border-color: transparent;\n",
              "      border-right-color: var(--fill-color);\n",
              "    }\n",
              "    80% {\n",
              "      border-color: transparent;\n",
              "      border-right-color: var(--fill-color);\n",
              "      border-bottom-color: var(--fill-color);\n",
              "    }\n",
              "    90% {\n",
              "      border-color: transparent;\n",
              "      border-bottom-color: var(--fill-color);\n",
              "    }\n",
              "  }\n",
              "</style>\n",
              "\n",
              "  <script>\n",
              "    async function quickchart(key) {\n",
              "      const quickchartButtonEl =\n",
              "        document.querySelector('#' + key + ' button');\n",
              "      quickchartButtonEl.disabled = true;  // To prevent multiple clicks.\n",
              "      quickchartButtonEl.classList.add('colab-df-spinner');\n",
              "      try {\n",
              "        const charts = await google.colab.kernel.invokeFunction(\n",
              "            'suggestCharts', [key], {});\n",
              "      } catch (error) {\n",
              "        console.error('Error during call to suggestCharts:', error);\n",
              "      }\n",
              "      quickchartButtonEl.classList.remove('colab-df-spinner');\n",
              "      quickchartButtonEl.classList.add('colab-df-quickchart-complete');\n",
              "    }\n",
              "    (() => {\n",
              "      let quickchartButtonEl =\n",
              "        document.querySelector('#df-118a4800-13f5-4125-bf7a-55dded906025 button');\n",
              "      quickchartButtonEl.style.display =\n",
              "        google.colab.kernel.accessAllowed ? 'block' : 'none';\n",
              "    })();\n",
              "  </script>\n",
              "</div>\n",
              "\n",
              "    </div>\n",
              "  </div>\n"
            ],
            "application/vnd.google.colaboratory.intrinsic+json": {
              "type": "dataframe",
              "variable_name": "less_equal_150_cal",
              "summary": "{\n  \"name\": \"less_equal_150_cal\",\n  \"rows\": 32,\n  \"fields\": [\n    {\n      \"column\": \"Item\",\n      \"properties\": {\n        \"dtype\": \"string\",\n        \"num_unique_values\": 19,\n        \"samples\": [\n          \"Evolution Fresh\\u2122 Organic Ginger Limeade\",\n          \"Tazo\\u00ae Bottled Black with Lemon\",\n          \"Tazo\\u00ae Bottled Plum Pomegranate\"\n        ],\n        \"semantic_type\": \"\",\n        \"description\": \"\"\n      }\n    },\n    {\n      \"column\": \"Calories\",\n      \"properties\": {\n        \"dtype\": \"number\",\n        \"std\": 12.427207404359507,\n        \"min\": 110.0,\n        \"max\": 150.0,\n        \"num_unique_values\": 5,\n        \"samples\": [\n          130.0,\n          120.0,\n          140.0\n        ],\n        \"semantic_type\": \"\",\n        \"description\": \"\"\n      }\n    },\n    {\n      \"column\": \"Fat\",\n      \"properties\": {\n        \"dtype\": \"number\",\n        \"std\": 1.6251550794487475,\n        \"min\": 0.0,\n        \"max\": 6.0,\n        \"num_unique_values\": 6,\n        \"samples\": [\n          0.0,\n          2.5,\n          0.5\n        ],\n        \"semantic_type\": \"\",\n        \"description\": \"\"\n      }\n    },\n    {\n      \"column\": \"Carb\",\n      \"properties\": {\n        \"dtype\": \"number\",\n        \"std\": 7.90919993099094,\n        \"min\": 12.0,\n        \"max\": 38.0,\n        \"num_unique_values\": 11,\n        \"samples\": [\n          37.0,\n          28.0,\n          13.0\n        ],\n        \"semantic_type\": \"\",\n        \"description\": \"\"\n      }\n    },\n    {\n      \"column\": \"Fiber\",\n      \"properties\": {\n        \"dtype\": \"number\",\n        \"std\": 0.1767766952966369,\n        \"min\": 0.0,\n        \"max\": 1.0,\n        \"num_unique_values\": 2,\n        \"samples\": [\n          1.0,\n          0.0\n        ],\n        \"semantic_type\": \"\",\n        \"description\": \"\"\n      }\n    },\n    {\n      \"column\": \"Protein\",\n      \"properties\": {\n        \"dtype\": \"number\",\n        \"std\": 2.620483826294482,\n        \"min\": 0.0,\n        \"max\": 8.0,\n        \"num_unique_values\": 6,\n        \"samples\": [\n          0.0,\n          5.0\n        ],\n        \"semantic_type\": \"\",\n        \"description\": \"\"\n      }\n    },\n    {\n      \"column\": \"Sodium\",\n      \"properties\": {\n        \"dtype\": \"number\",\n        \"std\": 50.53120043836219,\n        \"min\": 5.0,\n        \"max\": 200.0,\n        \"num_unique_values\": 10,\n        \"samples\": [\n          200.0,\n          65.0\n        ],\n        \"semantic_type\": \"\",\n        \"description\": \"\"\n      }\n    }\n  ]\n}"
            }
          },
          "metadata": {},
          "execution_count": 38
        }
      ],
      "source": [
        "less_equal_150_cal = drinks_df[drinks_df['Calories'] <= 150]\n",
        "less_equal_150_cal.head()"
      ]
    },
    {
      "cell_type": "code",
      "execution_count": 39,
      "metadata": {
        "colab": {
          "base_uri": "https://localhost:8080/",
          "height": 206
        },
        "id": "s8AwDWpAqDlR",
        "outputId": "abf66af6-fb1e-42d4-ebcc-6f3a80869193"
      },
      "outputs": [
        {
          "output_type": "execute_result",
          "data": {
            "text/plain": [
              "                                            Item  Calories   Fat  Carb  Fiber  \\\n",
              "17  Starbucks® Doubleshot Protein Dark Chocolate     210.0   2.5  33.0    2.0   \n",
              "18         Starbucks® Doubleshot Protein Vanilla     200.0   2.5  34.0    2.0   \n",
              "30                                 Hot Chocolate     320.0   9.0  47.0    4.0   \n",
              "31            Starbucks® Signature Hot Chocolate     430.0  26.0  45.0    5.0   \n",
              "32                                   Caffè Latte     190.0   7.0  19.0    0.0   \n",
              "\n",
              "    Protein  Sodium  \n",
              "17     20.0   115.0  \n",
              "18     20.0   120.0  \n",
              "30     14.0   160.0  \n",
              "31     12.0   115.0  \n",
              "32     13.0   170.0  "
            ],
            "text/html": [
              "\n",
              "  <div id=\"df-d4efa613-f6cf-4b54-ad46-e9b8e7dd6bce\" class=\"colab-df-container\">\n",
              "    <div>\n",
              "<style scoped>\n",
              "    .dataframe tbody tr th:only-of-type {\n",
              "        vertical-align: middle;\n",
              "    }\n",
              "\n",
              "    .dataframe tbody tr th {\n",
              "        vertical-align: top;\n",
              "    }\n",
              "\n",
              "    .dataframe thead th {\n",
              "        text-align: right;\n",
              "    }\n",
              "</style>\n",
              "<table border=\"1\" class=\"dataframe\">\n",
              "  <thead>\n",
              "    <tr style=\"text-align: right;\">\n",
              "      <th></th>\n",
              "      <th>Item</th>\n",
              "      <th>Calories</th>\n",
              "      <th>Fat</th>\n",
              "      <th>Carb</th>\n",
              "      <th>Fiber</th>\n",
              "      <th>Protein</th>\n",
              "      <th>Sodium</th>\n",
              "    </tr>\n",
              "  </thead>\n",
              "  <tbody>\n",
              "    <tr>\n",
              "      <th>17</th>\n",
              "      <td>Starbucks® Doubleshot Protein Dark Chocolate</td>\n",
              "      <td>210.0</td>\n",
              "      <td>2.5</td>\n",
              "      <td>33.0</td>\n",
              "      <td>2.0</td>\n",
              "      <td>20.0</td>\n",
              "      <td>115.0</td>\n",
              "    </tr>\n",
              "    <tr>\n",
              "      <th>18</th>\n",
              "      <td>Starbucks® Doubleshot Protein Vanilla</td>\n",
              "      <td>200.0</td>\n",
              "      <td>2.5</td>\n",
              "      <td>34.0</td>\n",
              "      <td>2.0</td>\n",
              "      <td>20.0</td>\n",
              "      <td>120.0</td>\n",
              "    </tr>\n",
              "    <tr>\n",
              "      <th>30</th>\n",
              "      <td>Hot Chocolate</td>\n",
              "      <td>320.0</td>\n",
              "      <td>9.0</td>\n",
              "      <td>47.0</td>\n",
              "      <td>4.0</td>\n",
              "      <td>14.0</td>\n",
              "      <td>160.0</td>\n",
              "    </tr>\n",
              "    <tr>\n",
              "      <th>31</th>\n",
              "      <td>Starbucks® Signature Hot Chocolate</td>\n",
              "      <td>430.0</td>\n",
              "      <td>26.0</td>\n",
              "      <td>45.0</td>\n",
              "      <td>5.0</td>\n",
              "      <td>12.0</td>\n",
              "      <td>115.0</td>\n",
              "    </tr>\n",
              "    <tr>\n",
              "      <th>32</th>\n",
              "      <td>Caffè Latte</td>\n",
              "      <td>190.0</td>\n",
              "      <td>7.0</td>\n",
              "      <td>19.0</td>\n",
              "      <td>0.0</td>\n",
              "      <td>13.0</td>\n",
              "      <td>170.0</td>\n",
              "    </tr>\n",
              "  </tbody>\n",
              "</table>\n",
              "</div>\n",
              "    <div class=\"colab-df-buttons\">\n",
              "\n",
              "  <div class=\"colab-df-container\">\n",
              "    <button class=\"colab-df-convert\" onclick=\"convertToInteractive('df-d4efa613-f6cf-4b54-ad46-e9b8e7dd6bce')\"\n",
              "            title=\"Convert this dataframe to an interactive table.\"\n",
              "            style=\"display:none;\">\n",
              "\n",
              "  <svg xmlns=\"http://www.w3.org/2000/svg\" height=\"24px\" viewBox=\"0 -960 960 960\">\n",
              "    <path d=\"M120-120v-720h720v720H120Zm60-500h600v-160H180v160Zm220 220h160v-160H400v160Zm0 220h160v-160H400v160ZM180-400h160v-160H180v160Zm440 0h160v-160H620v160ZM180-180h160v-160H180v160Zm440 0h160v-160H620v160Z\"/>\n",
              "  </svg>\n",
              "    </button>\n",
              "\n",
              "  <style>\n",
              "    .colab-df-container {\n",
              "      display:flex;\n",
              "      gap: 12px;\n",
              "    }\n",
              "\n",
              "    .colab-df-convert {\n",
              "      background-color: #E8F0FE;\n",
              "      border: none;\n",
              "      border-radius: 50%;\n",
              "      cursor: pointer;\n",
              "      display: none;\n",
              "      fill: #1967D2;\n",
              "      height: 32px;\n",
              "      padding: 0 0 0 0;\n",
              "      width: 32px;\n",
              "    }\n",
              "\n",
              "    .colab-df-convert:hover {\n",
              "      background-color: #E2EBFA;\n",
              "      box-shadow: 0px 1px 2px rgba(60, 64, 67, 0.3), 0px 1px 3px 1px rgba(60, 64, 67, 0.15);\n",
              "      fill: #174EA6;\n",
              "    }\n",
              "\n",
              "    .colab-df-buttons div {\n",
              "      margin-bottom: 4px;\n",
              "    }\n",
              "\n",
              "    [theme=dark] .colab-df-convert {\n",
              "      background-color: #3B4455;\n",
              "      fill: #D2E3FC;\n",
              "    }\n",
              "\n",
              "    [theme=dark] .colab-df-convert:hover {\n",
              "      background-color: #434B5C;\n",
              "      box-shadow: 0px 1px 3px 1px rgba(0, 0, 0, 0.15);\n",
              "      filter: drop-shadow(0px 1px 2px rgba(0, 0, 0, 0.3));\n",
              "      fill: #FFFFFF;\n",
              "    }\n",
              "  </style>\n",
              "\n",
              "    <script>\n",
              "      const buttonEl =\n",
              "        document.querySelector('#df-d4efa613-f6cf-4b54-ad46-e9b8e7dd6bce button.colab-df-convert');\n",
              "      buttonEl.style.display =\n",
              "        google.colab.kernel.accessAllowed ? 'block' : 'none';\n",
              "\n",
              "      async function convertToInteractive(key) {\n",
              "        const element = document.querySelector('#df-d4efa613-f6cf-4b54-ad46-e9b8e7dd6bce');\n",
              "        const dataTable =\n",
              "          await google.colab.kernel.invokeFunction('convertToInteractive',\n",
              "                                                    [key], {});\n",
              "        if (!dataTable) return;\n",
              "\n",
              "        const docLinkHtml = 'Like what you see? Visit the ' +\n",
              "          '<a target=\"_blank\" href=https://colab.research.google.com/notebooks/data_table.ipynb>data table notebook</a>'\n",
              "          + ' to learn more about interactive tables.';\n",
              "        element.innerHTML = '';\n",
              "        dataTable['output_type'] = 'display_data';\n",
              "        await google.colab.output.renderOutput(dataTable, element);\n",
              "        const docLink = document.createElement('div');\n",
              "        docLink.innerHTML = docLinkHtml;\n",
              "        element.appendChild(docLink);\n",
              "      }\n",
              "    </script>\n",
              "  </div>\n",
              "\n",
              "\n",
              "<div id=\"df-9a4f2478-43b7-4045-bab6-e75f23d3ca05\">\n",
              "  <button class=\"colab-df-quickchart\" onclick=\"quickchart('df-9a4f2478-43b7-4045-bab6-e75f23d3ca05')\"\n",
              "            title=\"Suggest charts\"\n",
              "            style=\"display:none;\">\n",
              "\n",
              "<svg xmlns=\"http://www.w3.org/2000/svg\" height=\"24px\"viewBox=\"0 0 24 24\"\n",
              "     width=\"24px\">\n",
              "    <g>\n",
              "        <path d=\"M19 3H5c-1.1 0-2 .9-2 2v14c0 1.1.9 2 2 2h14c1.1 0 2-.9 2-2V5c0-1.1-.9-2-2-2zM9 17H7v-7h2v7zm4 0h-2V7h2v10zm4 0h-2v-4h2v4z\"/>\n",
              "    </g>\n",
              "</svg>\n",
              "  </button>\n",
              "\n",
              "<style>\n",
              "  .colab-df-quickchart {\n",
              "      --bg-color: #E8F0FE;\n",
              "      --fill-color: #1967D2;\n",
              "      --hover-bg-color: #E2EBFA;\n",
              "      --hover-fill-color: #174EA6;\n",
              "      --disabled-fill-color: #AAA;\n",
              "      --disabled-bg-color: #DDD;\n",
              "  }\n",
              "\n",
              "  [theme=dark] .colab-df-quickchart {\n",
              "      --bg-color: #3B4455;\n",
              "      --fill-color: #D2E3FC;\n",
              "      --hover-bg-color: #434B5C;\n",
              "      --hover-fill-color: #FFFFFF;\n",
              "      --disabled-bg-color: #3B4455;\n",
              "      --disabled-fill-color: #666;\n",
              "  }\n",
              "\n",
              "  .colab-df-quickchart {\n",
              "    background-color: var(--bg-color);\n",
              "    border: none;\n",
              "    border-radius: 50%;\n",
              "    cursor: pointer;\n",
              "    display: none;\n",
              "    fill: var(--fill-color);\n",
              "    height: 32px;\n",
              "    padding: 0;\n",
              "    width: 32px;\n",
              "  }\n",
              "\n",
              "  .colab-df-quickchart:hover {\n",
              "    background-color: var(--hover-bg-color);\n",
              "    box-shadow: 0 1px 2px rgba(60, 64, 67, 0.3), 0 1px 3px 1px rgba(60, 64, 67, 0.15);\n",
              "    fill: var(--button-hover-fill-color);\n",
              "  }\n",
              "\n",
              "  .colab-df-quickchart-complete:disabled,\n",
              "  .colab-df-quickchart-complete:disabled:hover {\n",
              "    background-color: var(--disabled-bg-color);\n",
              "    fill: var(--disabled-fill-color);\n",
              "    box-shadow: none;\n",
              "  }\n",
              "\n",
              "  .colab-df-spinner {\n",
              "    border: 2px solid var(--fill-color);\n",
              "    border-color: transparent;\n",
              "    border-bottom-color: var(--fill-color);\n",
              "    animation:\n",
              "      spin 1s steps(1) infinite;\n",
              "  }\n",
              "\n",
              "  @keyframes spin {\n",
              "    0% {\n",
              "      border-color: transparent;\n",
              "      border-bottom-color: var(--fill-color);\n",
              "      border-left-color: var(--fill-color);\n",
              "    }\n",
              "    20% {\n",
              "      border-color: transparent;\n",
              "      border-left-color: var(--fill-color);\n",
              "      border-top-color: var(--fill-color);\n",
              "    }\n",
              "    30% {\n",
              "      border-color: transparent;\n",
              "      border-left-color: var(--fill-color);\n",
              "      border-top-color: var(--fill-color);\n",
              "      border-right-color: var(--fill-color);\n",
              "    }\n",
              "    40% {\n",
              "      border-color: transparent;\n",
              "      border-right-color: var(--fill-color);\n",
              "      border-top-color: var(--fill-color);\n",
              "    }\n",
              "    60% {\n",
              "      border-color: transparent;\n",
              "      border-right-color: var(--fill-color);\n",
              "    }\n",
              "    80% {\n",
              "      border-color: transparent;\n",
              "      border-right-color: var(--fill-color);\n",
              "      border-bottom-color: var(--fill-color);\n",
              "    }\n",
              "    90% {\n",
              "      border-color: transparent;\n",
              "      border-bottom-color: var(--fill-color);\n",
              "    }\n",
              "  }\n",
              "</style>\n",
              "\n",
              "  <script>\n",
              "    async function quickchart(key) {\n",
              "      const quickchartButtonEl =\n",
              "        document.querySelector('#' + key + ' button');\n",
              "      quickchartButtonEl.disabled = true;  // To prevent multiple clicks.\n",
              "      quickchartButtonEl.classList.add('colab-df-spinner');\n",
              "      try {\n",
              "        const charts = await google.colab.kernel.invokeFunction(\n",
              "            'suggestCharts', [key], {});\n",
              "      } catch (error) {\n",
              "        console.error('Error during call to suggestCharts:', error);\n",
              "      }\n",
              "      quickchartButtonEl.classList.remove('colab-df-spinner');\n",
              "      quickchartButtonEl.classList.add('colab-df-quickchart-complete');\n",
              "    }\n",
              "    (() => {\n",
              "      let quickchartButtonEl =\n",
              "        document.querySelector('#df-9a4f2478-43b7-4045-bab6-e75f23d3ca05 button');\n",
              "      quickchartButtonEl.style.display =\n",
              "        google.colab.kernel.accessAllowed ? 'block' : 'none';\n",
              "    })();\n",
              "  </script>\n",
              "</div>\n",
              "\n",
              "    </div>\n",
              "  </div>\n"
            ],
            "application/vnd.google.colaboratory.intrinsic+json": {
              "type": "dataframe",
              "variable_name": "more_150_cal",
              "summary": "{\n  \"name\": \"more_150_cal\",\n  \"rows\": 26,\n  \"fields\": [\n    {\n      \"column\": \"Item\",\n      \"properties\": {\n        \"dtype\": \"string\",\n        \"num_unique_values\": 25,\n        \"samples\": [\n          \"Coconutmilk Mocha Macchiato\",\n          \"Latte Macchiato\",\n          \"Starbucks\\u00ae Doubleshot Protein Dark Chocolate\"\n        ],\n        \"semantic_type\": \"\",\n        \"description\": \"\"\n      }\n    },\n    {\n      \"column\": \"Calories\",\n      \"properties\": {\n        \"dtype\": \"number\",\n        \"std\": 64.01081639367378,\n        \"min\": 180.0,\n        \"max\": 430.0,\n        \"num_unique_values\": 14,\n        \"samples\": [\n          230.0,\n          360.0,\n          210.0\n        ],\n        \"semantic_type\": \"\",\n        \"description\": \"\"\n      }\n    },\n    {\n      \"column\": \"Fat\",\n      \"properties\": {\n        \"dtype\": \"number\",\n        \"std\": 4.51510286108233,\n        \"min\": 2.0,\n        \"max\": 26.0,\n        \"num_unique_values\": 11,\n        \"samples\": [\n          6.0,\n          2.5,\n          5.0\n        ],\n        \"semantic_type\": \"\",\n        \"description\": \"\"\n      }\n    },\n    {\n      \"column\": \"Carb\",\n      \"properties\": {\n        \"dtype\": \"number\",\n        \"std\": 12.954357746155717,\n        \"min\": 18.0,\n        \"max\": 64.0,\n        \"num_unique_values\": 17,\n        \"samples\": [\n          33.0,\n          34.0,\n          42.0\n        ],\n        \"semantic_type\": \"\",\n        \"description\": \"\"\n      }\n    },\n    {\n      \"column\": \"Fiber\",\n      \"properties\": {\n        \"dtype\": \"number\",\n        \"std\": 2.3871450602050848,\n        \"min\": 0.0,\n        \"max\": 8.0,\n        \"num_unique_values\": 6,\n        \"samples\": [\n          2.0,\n          4.0,\n          7.0\n        ],\n        \"semantic_type\": \"\",\n        \"description\": \"\"\n      }\n    },\n    {\n      \"column\": \"Protein\",\n      \"properties\": {\n        \"dtype\": \"number\",\n        \"std\": 3.8542683631766756,\n        \"min\": 4.0,\n        \"max\": 20.0,\n        \"num_unique_values\": 11,\n        \"samples\": [\n          11.0,\n          20.0,\n          4.0\n        ],\n        \"semantic_type\": \"\",\n        \"description\": \"\"\n      }\n    },\n    {\n      \"column\": \"Sodium\",\n      \"properties\": {\n        \"dtype\": \"number\",\n        \"std\": 45.96696137946839,\n        \"min\": 0.0,\n        \"max\": 240.0,\n        \"num_unique_values\": 16,\n        \"samples\": [\n          115.0,\n          120.0,\n          150.0\n        ],\n        \"semantic_type\": \"\",\n        \"description\": \"\"\n      }\n    }\n  ]\n}"
            }
          },
          "metadata": {},
          "execution_count": 39
        }
      ],
      "source": [
        "more_150_cal = drinks_df[drinks_df['Calories'] > 150]\n",
        "more_150_cal.head()"
      ]
    },
    {
      "cell_type": "markdown",
      "metadata": {
        "id": "XSoFwHu7qDlR"
      },
      "source": [
        "![green-divider](https://user-images.githubusercontent.com/7065401/52071924-c003ad80-2562-11e9-8297-1c6595f8a7ff.png)\n",
        "\n",
        "### Compare item characteristics\n",
        "\n",
        "Create a `compare_groups()` function that compares a given field of both groups of data, `less_equal_150_cal` and `more_150_cal`, by showing two overlapped histograms.\n",
        "\n",
        "- You should use different colors per histogram. Also add a little bit of opacity (use `alpha=0.4`).\n",
        "- The function MUST check that the given field exists, and raise `ValueError` with a \"Field not found\" message otherwise.\n"
      ]
    },
    {
      "cell_type": "code",
      "execution_count": 42,
      "metadata": {
        "id": "q1N337-3qDlR"
      },
      "outputs": [],
      "source": [
        "def compare_groups(field):\n",
        "    if (field in less_equal_150_cal.columns):\n",
        "        less_equal_150_cal[field].plot(kind='hist', color='blue', alpha=0.4, title=field)\n",
        "        more_150_cal[field].plot(kind='hist', color='red', alpha=0.4)\n",
        "    else:\n",
        "        raise ValueError(f\"Field '{field}' not found\")"
      ]
    },
    {
      "cell_type": "markdown",
      "metadata": {
        "id": "KBTHyKoSqDlS"
      },
      "source": [
        "Validate your function showing a comparison of the `Calories` per group."
      ]
    },
    {
      "cell_type": "code",
      "execution_count": 43,
      "metadata": {
        "colab": {
          "base_uri": "https://localhost:8080/",
          "height": 452
        },
        "id": "ABehgIerqDlS",
        "outputId": "e3d1d5d3-76d4-4ce6-873b-1541be0d8ed5"
      },
      "outputs": [
        {
          "output_type": "display_data",
          "data": {
            "text/plain": [
              "<Figure size 640x480 with 1 Axes>"
            ],
            "image/png": "[encoded data removed]"
          },
          "metadata": {}
        }
      ],
      "source": [
        "compare_groups('Calories')"
      ]
    },
    {
      "cell_type": "markdown",
      "metadata": {
        "id": "captrb4EqDlS"
      },
      "source": [
        "Now answer: **Less Calories implies less Sodium?**"
      ]
    },
    {
      "cell_type": "code",
      "execution_count": 44,
      "metadata": {
        "colab": {
          "base_uri": "https://localhost:8080/",
          "height": 452
        },
        "id": "aPLtqEvbqDlS",
        "outputId": "8230315c-3c6d-4b2d-a9dc-881d036799f2"
      },
      "outputs": [
        {
          "output_type": "display_data",
          "data": {
            "text/plain": [
              "<Figure size 640x480 with 1 Axes>"
            ],
            "image/png": "[encoded data removed]"
          },
          "metadata": {}
        }
      ],
      "source": [
        "compare_groups('Sodium')  # Comparing Sodium per group"
      ]
    },
    {
      "cell_type": "markdown",
      "metadata": {
        "id": "5fgBvpICqDlU"
      },
      "source": [
        "**Less Calories implies less Carbs?**"
      ]
    },
    {
      "cell_type": "code",
      "execution_count": 45,
      "metadata": {
        "colab": {
          "base_uri": "https://localhost:8080/",
          "height": 452
        },
        "id": "3xfEfvnqqDlV",
        "outputId": "bc61e0fc-a2fa-485c-ec48-9502a70a6ad9"
      },
      "outputs": [
        {
          "output_type": "display_data",
          "data": {
            "text/plain": [
              "<Figure size 640x480 with 1 Axes>"
            ],
            "image/png": "[encoded data removed]"
          },
          "metadata": {}
        }
      ],
      "source": [
        "compare_groups('Carb')    # Comparing Carbs per group"
      ]
    },
    {
      "cell_type": "markdown",
      "metadata": {
        "id": "n_kBZLvbqDlW"
      },
      "source": [
        "**Less Calories implies less Proteins?**"
      ]
    },
    {
      "cell_type": "code",
      "execution_count": 46,
      "metadata": {
        "colab": {
          "base_uri": "https://localhost:8080/",
          "height": 452
        },
        "id": "yALFkHXrqDlW",
        "outputId": "bb155553-662f-4d6f-a218-446eee2894af"
      },
      "outputs": [
        {
          "output_type": "display_data",
          "data": {
            "text/plain": [
              "<Figure size 640x480 with 1 Axes>"
            ],
            "image/png": "[encoded data removed]"
          },
          "metadata": {}
        }
      ],
      "source": [
        "compare_groups('Protein') # Comparing Proteins per group"
      ]
    },
    {
      "cell_type": "markdown",
      "metadata": {
        "id": "SDMTH-igqDlW"
      },
      "source": [
        "![green-divider](https://user-images.githubusercontent.com/7065401/52071924-c003ad80-2562-11e9-8297-1c6595f8a7ff.png)\n",
        "\n",
        "## Healthy diet interest\n",
        "\n",
        "In order to measure interest on healthy diets, we'll analyze how many pageviews the article `Healthy diet` received during the last years.\n",
        "\n",
        "![Food-piramid](https://user-images.githubusercontent.com/7065401/68880286-bf02cd80-06e9-11ea-8d42-ff6dbb539f7d.png)\n",
        "\n",
        "To get pageviews from Wikipedia, we'll need to use the _Analytics API_. Here you can find [the documentation](https://wikitech.wikimedia.org/wiki/Analytics/AQS/Pageviews) to get pageviews from an article.\n",
        "\n",
        "To get monthly pageviews for a given article, you can use the following endpoint:\n",
        "\n",
        "```\n",
        "https://wikimedia.org/api/rest_v1/metrics/pageviews/per-article/en.wikipedia/all-access/all-agents/{ARTICLE}/monthly/{START}/{END}\n",
        "```"
      ]
    },
    {
      "cell_type": "markdown",
      "metadata": {
        "id": "6oMhIg5uqDlX"
      },
      "source": [
        "![green-divider](https://user-images.githubusercontent.com/7065401/52071924-c003ad80-2562-11e9-8297-1c6595f8a7ff.png)\n",
        "\n",
        "### Get data from Wikipedia using its API\n",
        "\n",
        "Make a request to Wikipedia API to get monthly page views for `Healthy_diet` article from year 2015 (`2015010100`) to 2019 (`2019100100`).\n",
        "\n",
        "Store the response in a `pageviews_df` DataFrame variable."
      ]
    },
    {
      "cell_type": "code",
      "execution_count": 48,
      "metadata": {
        "id": "wuXrVDKqqDlX"
      },
      "outputs": [],
      "source": [
        "url = \"https://wikimedia.org/api/rest_v1/metrics/pageviews/per-article/en.wikipedia/all-access/all-agents/Healthy_diet/monthly/2015010100/2019100100\""
      ]
    },
    {
      "cell_type": "code",
      "execution_count": 53,
      "metadata": {
        "colab": {
          "base_uri": "https://localhost:8080/"
        },
        "id": "9BeOj5lGqDlY",
        "outputId": "67f38986-0213-4dbc-c0cb-b7cceaf2d9dd"
      },
      "outputs": [
        {
          "output_type": "stream",
          "name": "stdout",
          "text": [
            "Response status code: 200\n",
            "Response content: {\"items\":[{\"project\":\"en.wikipedia\",\"article\":\"Healthy_diet\",\"granularity\":\"monthly\",\"timestamp\":\"2015070100\",\"access\":\"all-access\",\"agent\":\"all-agents\",\"views\":24293},{\"project\":\"en.wikipedia\",\"article\":\"Healthy_diet\",\"granularity\":\"monthly\",\"timestamp\":\"2015080100\",\"access\":\"all-access\",\"agent\":\"all-agents\",\"views\":41794},{\"project\":\"en.wikipedia\",\"article\":\"Healthy_diet\",\"granularity\":\"monthly\",\"timestamp\":\"2015090100\",\"access\":\"all-access\",\"agent\":\"all-agents\",\"views\":23606},{\"project\":\"en.wikipedia\",\"article\":\"Healthy_diet\",\"granularity\":\"monthly\",\"timestamp\":\"2015100100\",\"access\":\"all-access\",\"agent\":\"all-agents\",\"views\":26351},{\"project\":\"en.wikipedia\",\"article\":\"Healthy_diet\",\"granularity\":\"monthly\",\"timestamp\":\"2015110100\",\"access\":\"all-access\",\"agent\":\"all-agents\",\"views\":24596},{\"project\":\"en.wikipedia\",\"article\":\"Healthy_diet\",\"granularity\":\"monthly\",\"timestamp\":\"2015120100\",\"access\":\"all-access\",\"agent\":\"all-agents\",\"views\":22641},{\"project\":\"en.wikipedia\",\"article\":\"Healthy_diet\",\"granularity\":\"monthly\",\"timestamp\":\"2016010100\",\"access\":\"all-access\",\"agent\":\"all-agents\",\"views\":31230},{\"project\":\"en.wikipedia\",\"article\":\"Healthy_diet\",\"granularity\":\"monthly\",\"timestamp\":\"2016020100\",\"access\":\"all-access\",\"agent\":\"all-agents\",\"views\":30777},{\"project\":\"en.wikipedia\",\"article\":\"Healthy_diet\",\"granularity\":\"monthly\",\"timestamp\":\"2016030100\",\"access\":\"all-access\",\"agent\":\"all-agents\",\"views\":28268},{\"project\":\"en.wikipedia\",\"article\":\"Healthy_diet\",\"granularity\":\"monthly\",\"timestamp\":\"2016040100\",\"access\":\"all-access\",\"agent\":\"all-agents\",\"views\":28776},{\"project\":\"en.wikipedia\",\"article\":\"Healthy_diet\",\"granularity\":\"monthly\",\"timestamp\":\"2016050100\",\"access\":\"all-access\",\"agent\":\"all-agents\",\"views\":31139},{\"project\":\"en.wikipedia\",\"article\":\"Healthy_diet\",\"granularity\":\"monthly\",\"timestamp\":\"2016060100\",\"access\":\"all-access\",\"agent\":\"all-agents\",\"views\":33588},{\"project\":\"en.wikipedia\",\"article\":\"Healthy_diet\",\"granularity\":\"monthly\",\"timestamp\":\"2016070100\",\"access\":\"all-access\",\"agent\":\"all-agents\",\"views\":32155},{\"project\":\"en.wikipedia\",\"article\":\"Healthy_diet\",\"granularity\":\"monthly\",\"timestamp\":\"2016080100\",\"access\":\"all-access\",\"agent\":\"all-agents\",\"views\":30093},{\"project\":\"en.wikipedia\",\"article\":\"Healthy_diet\",\"granularity\":\"monthly\",\"timestamp\":\"2016090100\",\"access\":\"all-access\",\"agent\":\"all-agents\",\"views\":28301},{\"project\":\"en.wikipedia\",\"article\":\"Healthy_diet\",\"granularity\":\"monthly\",\"timestamp\":\"2016100100\",\"access\":\"all-access\",\"agent\":\"all-agents\",\"views\":30299},{\"project\":\"en.wikipedia\",\"article\":\"Healthy_diet\",\"granularity\":\"monthly\",\"timestamp\":\"2016110100\",\"access\":\"all-access\",\"agent\":\"all-agents\",\"views\":31221},{\"project\":\"en.wikipedia\",\"article\":\"Healthy_diet\",\"granularity\":\"monthly\",\"timestamp\":\"2016120100\",\"access\":\"all-access\",\"agent\":\"all-agents\",\"views\":24066},{\"project\":\"en.wikipedia\",\"article\":\"Healthy_diet\",\"granularity\":\"monthly\",\"timestamp\":\"2017010100\",\"access\":\"all-access\",\"agent\":\"all-agents\",\"views\":29944},{\"project\":\"en.wikipedia\",\"article\":\"Healthy_diet\",\"granularity\":\"monthly\",\"timestamp\":\"2017020100\",\"access\":\"all-access\",\"agent\":\"all-agents\",\"views\":30173},{\"project\":\"en.wikipedia\",\"article\":\"Healthy_diet\",\"granularity\":\"monthly\",\"timestamp\":\"2017030100\",\"access\":\"all-access\",\"agent\":\"all-agents\",\"views\":30776},{\"project\":\"en.wikipedia\",\"article\":\"Healthy_diet\",\"granularity\":\"monthly\",\"timestamp\":\"2017040100\",\"access\":\"all-access\",\"agent\":\"all-agents\",\"views\":28373},{\"project\":\"en.wikipedia\",\"article\":\"Healthy_diet\",\"granularity\":\"monthly\",\"timestamp\":\"2017050100\",\"access\":\"all-access\",\"agent\":\"all-agents\",\"views\":31856},{\"project\":\"en.wikipedia\",\"article\":\"Healthy_diet\",\"granularity\":\"monthly\",\"timestamp\":\"2017060100\",\"access\":\"all-access\",\"agent\":\"all-agents\",\"views\":35541},{\"project\":\"en.wikipedia\",\"article\":\"Healthy_diet\",\"granularity\":\"monthly\",\"timestamp\":\"2017070100\",\"access\":\"all-access\",\"agent\":\"all-agents\",\"views\":56795},{\"project\":\"en.wikipedia\",\"article\":\"Healthy_diet\",\"granularity\":\"monthly\",\"timestamp\":\"2017080100\",\"access\":\"all-access\",\"agent\":\"all-agents\",\"views\":30148},{\"project\":\"en.wikipedia\",\"article\":\"Healthy_diet\",\"granularity\":\"monthly\",\"timestamp\":\"2017090100\",\"access\":\"all-access\",\"agent\":\"all-agents\",\"views\":27821},{\"project\":\"en.wikipedia\",\"article\":\"Healthy_diet\",\"granularity\":\"monthly\",\"timestamp\":\"2017100100\",\"access\":\"all-access\",\"agent\":\"all-agents\",\"views\":30803},{\"project\":\"en.wikipedia\",\"article\":\"Healthy_diet\",\"granularity\":\"monthly\",\"timestamp\":\"2017110100\",\"access\":\"all-access\",\"agent\":\"all-agents\",\"views\":36271},{\"project\":\"en.wikipedia\",\"article\":\"Healthy_diet\",\"granularity\":\"monthly\",\"timestamp\":\"2017120100\",\"access\":\"all-access\",\"agent\":\"all-agents\",\"views\":29742},{\"project\":\"en.wikipedia\",\"article\":\"Healthy_diet\",\"granularity\":\"monthly\",\"timestamp\":\"2018010100\",\"access\":\"all-access\",\"agent\":\"all-agents\",\"views\":39445},{\"project\":\"en.wikipedia\",\"article\":\"Healthy_diet\",\"granularity\":\"monthly\",\"timestamp\":\"2018020100\",\"access\":\"all-access\",\"agent\":\"all-agents\",\"views\":56027},{\"project\":\"en.wikipedia\",\"article\":\"Healthy_diet\",\"granularity\":\"monthly\",\"timestamp\":\"2018030100\",\"access\":\"all-access\",\"agent\":\"all-agents\",\"views\":42095},{\"project\":\"en.wikipedia\",\"article\":\"Healthy_diet\",\"granularity\":\"monthly\",\"timestamp\":\"2018040100\",\"access\":\"all-access\",\"agent\":\"all-agents\",\"views\":33982},{\"project\":\"en.wikipedia\",\"article\":\"Healthy_diet\",\"granularity\":\"monthly\",\"timestamp\":\"2018050100\",\"access\":\"all-access\",\"agent\":\"all-agents\",\"views\":34435},{\"project\":\"en.wikipedia\",\"article\":\"Healthy_diet\",\"granularity\":\"monthly\",\"timestamp\":\"2018060100\",\"access\":\"all-access\",\"agent\":\"all-agents\",\"views\":35699},{\"project\":\"en.wikipedia\",\"article\":\"Healthy_diet\",\"granularity\":\"monthly\",\"timestamp\":\"2018070100\",\"access\":\"all-access\",\"agent\":\"all-agents\",\"views\":40336},{\"project\":\"en.wikipedia\",\"article\":\"Healthy_diet\",\"granularity\":\"monthly\",\"timestamp\":\"2018080100\",\"access\":\"all-access\",\"agent\":\"all-agents\",\"views\":35013},{\"project\":\"en.wikipedia\",\"article\":\"Healthy_diet\",\"granularity\":\"monthly\",\"timestamp\":\"2018090100\",\"access\":\"all-access\",\"agent\":\"all-agents\",\"views\":38924},{\"project\":\"en.wikipedia\",\"article\":\"Healthy_diet\",\"granularity\":\"monthly\",\"timestamp\":\"2018100100\",\"access\":\"all-access\",\"agent\":\"all-agents\",\"views\":43511},{\"project\":\"en.wikipedia\",\"article\":\"Healthy_diet\",\"granularity\":\"monthly\",\"timestamp\":\"2018110100\",\"access\":\"all-access\",\"agent\":\"all-agents\",\"views\":41847},{\"project\":\"en.wikipedia\",\"article\":\"Healthy_diet\",\"granularity\":\"monthly\",\"timestamp\":\"2018120100\",\"access\":\"all-access\",\"agent\":\"all-agents\",\"views\":37398},{\"project\":\"en.wikipedia\",\"article\":\"Healthy_diet\",\"granularity\":\"monthly\",\"timestamp\":\"2019010100\",\"access\":\"all-access\",\"agent\":\"all-agents\",\"views\":49514},{\"project\":\"en.wikipedia\",\"article\":\"Healthy_diet\",\"granularity\":\"monthly\",\"timestamp\":\"2019020100\",\"access\":\"all-access\",\"agent\":\"all-agents\",\"views\":45611},{\"project\":\"en.wikipedia\",\"article\":\"Healthy_diet\",\"granularity\":\"monthly\",\"timestamp\":\"2019030100\",\"access\":\"all-access\",\"agent\":\"all-agents\",\"views\":48120},{\"project\":\"en.wikipedia\",\"article\":\"Healthy_diet\",\"granularity\":\"monthly\",\"timestamp\":\"2019040100\",\"access\":\"all-access\",\"agent\":\"all-agents\",\"views\":41622},{\"project\":\"en.wikipedia\",\"article\":\"Healthy_diet\",\"granularity\":\"monthly\",\"timestamp\":\"2019050100\",\"access\":\"all-access\",\"agent\":\"all-agents\",\"views\":43819},{\"project\":\"en.wikipedia\",\"article\":\"Healthy_diet\",\"granularity\":\"monthly\",\"timestamp\":\"2019060100\",\"access\":\"all-access\",\"agent\":\"all-agents\",\"views\":44140},{\"project\":\"en.wikipedia\",\"article\":\"Healthy_diet\",\"granularity\":\"monthly\",\"timestamp\":\"2019070100\",\"access\":\"all-access\",\"agent\":\"all-agents\",\"views\":48159},{\"project\":\"en.wikipedia\",\"article\":\"Healthy_diet\",\"granularity\":\"monthly\",\"timestamp\":\"2019080100\",\"access\":\"all-access\",\"agent\":\"all-agents\",\"views\":36434},{\"project\":\"en.wikipedia\",\"article\":\"Healthy_diet\",\"granularity\":\"monthly\",\"timestamp\":\"2019090100\",\"access\":\"all-access\",\"agent\":\"all-agents\",\"views\":41764},{\"project\":\"en.wikipedia\",\"article\":\"Healthy_diet\",\"granularity\":\"monthly\",\"timestamp\":\"2019100100\",\"access\":\"all-access\",\"agent\":\"all-agents\",\"views\":1467}]}\n",
            "        project       article granularity   timestamp      access       agent  \\\n",
            "0  en.wikipedia  Healthy_diet     monthly  2015070100  all-access  all-agents   \n",
            "1  en.wikipedia  Healthy_diet     monthly  2015080100  all-access  all-agents   \n",
            "2  en.wikipedia  Healthy_diet     monthly  2015090100  all-access  all-agents   \n",
            "3  en.wikipedia  Healthy_diet     monthly  2015100100  all-access  all-agents   \n",
            "4  en.wikipedia  Healthy_diet     monthly  2015110100  all-access  all-agents   \n",
            "\n",
            "   views  \n",
            "0  24293  \n",
            "1  41794  \n",
            "2  23606  \n",
            "3  26351  \n",
            "4  24596  \n"
          ]
        }
      ],
      "source": [
        "# Define the URL to fetch pageviews data for the 'Healthy diet' article\n",
        "ARTICLE = \"Healthy_diet\"\n",
        "START = \"2015010100\"  # Start date: January 1, 2015\n",
        "END = \"2019100100\"    # End date: October 1, 2019\n",
        "\n",
        "url = f\"https://wikimedia.org/api/rest_v1/metrics/pageviews/per-article/en.wikipedia/all-access/all-agents/{ARTICLE}/monthly/{START}/{END}\"\n",
        "\n",
        "# Custom headers with a valid User-Agent\n",
        "headers = {\n",
        "    'User-Agent': 'Mozilla/5.0 (Windows NT 10.0; Win64; x64) AppleWebKit/537.36 (KHTML, like Gecko) Chrome/91.0.4472.124 Safari/537.36'\n",
        "}\n",
        "\n",
        "# Make the API request with custom headers\n",
        "resp = requests.get(url, headers=headers)\n",
        "\n",
        "# Print the raw response content to debug\n",
        "print(\"Response status code:\", resp.status_code)\n",
        "print(\"Response content:\", resp.text)\n",
        "\n",
        "# If the response is valid JSON, process it\n",
        "if resp.status_code == 200:\n",
        "    dict_json = resp.json()\n",
        "    pageviews_df = pd.DataFrame.from_dict(dict_json['items'])\n",
        "    print(pageviews_df.head())\n",
        "else:\n",
        "    print(\"Error: API request was not successful.\")\n"
      ]
    },
    {
      "cell_type": "markdown",
      "metadata": {
        "id": "eiTH_6oTqDlY"
      },
      "source": [
        "![green-divider](https://user-images.githubusercontent.com/7065401/52071924-c003ad80-2562-11e9-8297-1c6595f8a7ff.png)\n",
        "\n",
        "### When was the highest search peak?\n",
        "\n",
        "Save in a `max_pageviews_str` variable the date where `Healthy_diet` article had the highest volume of page views.\n",
        "\n",
        "Also save a `max_pageview_date` with that previous value parsed to `datetime`."
      ]
    },
    {
      "cell_type": "code",
      "execution_count": 56,
      "metadata": {
        "colab": {
          "base_uri": "https://localhost:8080/"
        },
        "id": "dpynQfgXqDlZ",
        "outputId": "734d96ed-ef4b-46e9-b861-11a49b85f330"
      },
      "outputs": [
        {
          "output_type": "stream",
          "name": "stdout",
          "text": [
            "Max pageviews date as string: 2017070100\n",
            "Max pageviews date as datetime: 2017-07-01 00:00:00\n"
          ]
        }
      ],
      "source": [
        "max_pageviews_df = pageviews_df.loc[pageviews_df['views'] == pageviews_df['views'].max()]\n",
        "\n",
        "# Extract the timestamp of that row\n",
        "max_pageviews_str = max_pageviews_df['timestamp'].values[0]\n",
        "print(\"Max pageviews date as string:\", max_pageviews_str)\n",
        "\n",
        "# Parse the string timestamp to a datetime object\n",
        "max_pageviews_date = pd.to_datetime(max_pageviews_str, format='%Y%m%d%H')\n",
        "print(\"Max pageviews date as datetime:\", max_pageviews_date)"
      ]
    },
    {
      "cell_type": "markdown",
      "metadata": {
        "id": "BZbA34bPqDlZ"
      },
      "source": [
        "We can draw a quick plot showing the evolution of `views` per month:"
      ]
    },
    {
      "cell_type": "code",
      "execution_count": 59,
      "metadata": {
        "colab": {
          "base_uri": "https://localhost:8080/",
          "height": 435
        },
        "id": "L839T3F5qDlZ",
        "outputId": "6a13665b-bf3e-4d29-b6cf-128e9104aca3"
      },
      "outputs": [
        {
          "output_type": "display_data",
          "data": {
            "text/plain": [
              "<Figure size 1400x600 with 1 Axes>"
            ],
            "image/png": "[encoded data removed]"
          },
          "metadata": {}
        }
      ],
      "source": [
        "import matplotlib.pyplot as plt\n",
        "\n",
        "plt.figure(figsize=(14, 6))\n",
        "plt.plot(pageviews_df['timestamp'], pageviews_df['views'])\n",
        "\n",
        "plt.axvline(x=max_pageviews_str, color='green')\n",
        "\n",
        "plt.xticks(rotation=90)\n",
        "plt.show()"
      ]
    },
    {
      "cell_type": "markdown",
      "metadata": {
        "id": "0vq0ZxjoqDla"
      },
      "source": [
        "![green-divider](https://user-images.githubusercontent.com/7065401/52071924-c003ad80-2562-11e9-8297-1c6595f8a7ff.png)\n",
        "\n",
        "### Get more data from Wikipedia API\n",
        "\n",
        "Create a `get_pageviews_count()` function that receives a variable number **article names** as argument, and returns a dictionary with the sum of pageviews during 2018 for each of these article names.\n",
        "\n",
        "- The function MUST check that at least one parameter is found, and raise a `ValueError` otherwise.\n",
        "\n",
        "```\n",
        "https://wikimedia.org/api/rest_v1/metrics/pageviews/per-article/en.wikipedia/all-access/all-agents/{ARTICLE}/monthly/2018010100/2018123100\n",
        "```"
      ]
    },
    {
      "cell_type": "code",
      "execution_count": 68,
      "metadata": {
        "id": "CnhimI2oqDla"
      },
      "outputs": [],
      "source": [
        "def get_pageviews_count(*articles):\n",
        "    # Check if at least one article is provided\n",
        "    if not articles:\n",
        "        raise ValueError(\"At least one article name must be provided\")\n",
        "\n",
        "    # Initialize an empty dictionary to store the results\n",
        "    pageviews_data = {}\n",
        "\n",
        "    # Define the URL format for the API request\n",
        "    url_format = \"https://wikimedia.org/api/rest_v1/metrics/pageviews/per-article/en.wikipedia/all-access/all-agents/{}/monthly/2018010100/2018123100\"\n",
        "\n",
        "    # Set the custom User-Agent header\n",
        "    headers = {\n",
        "        'User-Agent': 'Mozilla/5.0 (Windows NT 10.0; Win64; x64) AppleWebKit/537.36 (KHTML, like Gecko) Chrome/91.0.4472.124 Safari/537.36'\n",
        "    }\n",
        "\n",
        "    # Loop over each article and fetch the pageviews\n",
        "    for article in articles:\n",
        "        url = url_format.format(article)\n",
        "        try:\n",
        "            # Make the GET request with custom headers\n",
        "            resp = requests.get(url, headers=headers)\n",
        "\n",
        "            # Check if the request was successful (status code 200)\n",
        "            if resp.status_code == 200:\n",
        "                data = resp.json()\n",
        "                # Calculate the sum of pageviews for the given article\n",
        "                total_pageviews = sum(item['views'] for item in data['items'])\n",
        "                pageviews_data[article] = total_pageviews\n",
        "            else:\n",
        "                # Handle the case where the response status is not 200\n",
        "                pageviews_data[article] = None\n",
        "                print(f\"Error fetching data for {article}. Status code: {resp.status_code}\")\n",
        "        except Exception as e:\n",
        "            # Handle exceptions (e.g., network issues, request failures)\n",
        "            pageviews_data[article] = None\n",
        "            print(f\"Exception occurred while fetching data for {article}: {e}\")\n",
        "\n",
        "    return pageviews_data\n"
      ]
    },
    {
      "cell_type": "markdown",
      "metadata": {
        "id": "4NiJj_S8qDla"
      },
      "source": [
        "Calling `get_pageviews_count('Healthy_diet', 'Food', 'Obesity')` should return something like:\n",
        "\n",
        "```\n",
        "{'Healthy_diet': 478712, 'Food': 1125874, 'Obesity': 1092577}\n",
        "```"
      ]
    },
    {
      "cell_type": "code",
      "execution_count": 84,
      "metadata": {
        "colab": {
          "base_uri": "https://localhost:8080/"
        },
        "id": "4fSweuimqDlb",
        "outputId": "c3177ded-e261-4848-87c2-a3a9c1ba0fcc"
      },
      "outputs": [
        {
          "output_type": "execute_result",
          "data": {
            "text/plain": [
              "{'Healthy_diet': 478712, 'Food': 1125874, 'Obesity': 1092577}"
            ]
          },
          "metadata": {},
          "execution_count": 84
        }
      ],
      "source": [
        "get_pageviews_count('Healthy_diet', 'Food', 'Obesity')"
      ]
    },
    {
      "cell_type": "markdown",
      "metadata": {
        "id": "EGaSMYBeqDld"
      },
      "source": [
        "![purple-divider](https://user-images.githubusercontent.com/7065401/52071927-c1cd7100-2562-11e9-908a-dde91ba14e59.png)"
      ]
    }
  ],
  "metadata": {
    "kernelspec": {
      "display_name": "Python 3",
      "language": "python",
      "name": "python3"
    },
    "language_info": {
      "codemirror_mode": {
        "name": "ipython",
        "version": 3
      },
      "file_extension": ".py",
      "mimetype": "text/x-python",
      "name": "python",
      "nbconvert_exporter": "python",
      "pygments_lexer": "ipython3",
      "version": "3.7.7"
    },
    "colab": {
      "provenance": [],
      "toc_visible": true
    }
  },
  "nbformat": 4,
  "nbformat_minor": 0
}