{
  "cells": [
    {
      "cell_type": "markdown",
      "metadata": {
        "id": "BwhHoPwSet2s"
      },
      "source": [
        "<div style=\"position: relative; text-align: right;\">\n",
        "<img src=\"https://user-images.githubusercontent.com/7065401/98614301-dcf01780-22d6-11eb-9c8f-65ebfceac6f6.png\" style=\"width: 130px; display: inline-block;\"></img>\n",
        "\n",
        "<img src=\"https://user-images.githubusercontent.com/7065401/98864025-08deda80-2448-11eb-9600-22aa17884cdf.png\" style=\"height: 100%; max-height: inherit; position: absolute; top: 20%; left: 0px;\"></img>\n",
        "<br>\n",
        "\n",
        "<h2 style=\"font-weight: bold;\">\n",
        "    Kristin Day\n",
        "</h2>\n",
        "\n",
        "<h3 style=\"color: #ef7d22; margin-top: 0.8em\">\n",
        "    Data Scientist\n",
        "</h3>\n",
        "<hr>\n",
        "<br><br>\n",
        "\n",
        "<p style=\"font-size: 80%; text-align: right; margin: 10px 0px;\">\n",
        "    yokristinday@gmail.com\n",
        "</p>\n",
        "<p style=\"font-size: 80%; text-align: right; margin: 10px 0px;\">\n",
        "    linkedin.com/in/kristin-day-300306a9\n",
        "</p>\n",
        "\n",
        "</div>\n",
        "\n",
        "<br><br><br>"
      ]
    },
    {
      "cell_type": "markdown",
      "metadata": {
        "id": "k8N1DNseet2u"
      },
      "source": [
        "<div style=\"position: relative;\">\n",
        "<img src=\"https://user-images.githubusercontent.com/7065401/98728503-5ab82f80-2378-11eb-9c79-adeb308fc647.png\"></img>\n",
        "\n",
        "<h3 style=\"color: white; position: absolute; top:30%; left:10%;\">\n",
        "    Decision Trees\n",
        "</h3>\n",
        "<h1 style=\"color: white; position: absolute; top:35%; left:10%;\">\n",
        "    Boston House Prices Regression\n",
        "</h1>\n",
        "\n",
        "<h3 style=\"color: #ef7d22; font-weight: normal; position: absolute; top:43%; left:10%;\">\n",
        "    Kristin Day\n",
        "</h3>\n",
        "</div>"
      ]
    },
    {
      "cell_type": "markdown",
      "metadata": {
        "id": "2j6NREJHet2u"
      },
      "source": [
        "<div style=\"width: 100%; background-color: #ef7d22; text-align: center\">\n",
        "<br><br>\n",
        "\n",
        "<h1 style=\"color: white; font-weight: bold;\">\n",
        "    Predict the prices of houses in Boston\n",
        "</h1>\n",
        "\n",
        "\n",
        "<br><br>\n",
        "</div>\n",
        "\n",
        "![boston-housing](https://user-images.githubusercontent.com/7065401/112419797-ca68fe80-8d0a-11eb-8f18-03381a6a1de8.png)\n",
        "\n",
        "<hr>"
      ]
    },
    {
      "cell_type": "code",
      "execution_count": null,
      "metadata": {
        "id": "RS9Lete6et2v"
      },
      "outputs": [],
      "source": [
        "import pickle\n",
        "\n",
        "import matplotlib.pyplot as plt\n",
        "import pandas as pd\n",
        "\n",
        "from dtreeviz.trees import dtreeviz\n",
        "import graphviz\n",
        "from IPython.display import Image\n",
        "\n",
        "from sklearn import datasets\n",
        "from sklearn.metrics import mean_absolute_error,mean_squared_error\n",
        "from sklearn.model_selection import RandomizedSearchCV,train_test_split\n",
        "from sklearn.preprocessing import LabelEncoder\n",
        "import pydotplus\n",
        "from sklearn import tree\n",
        "from sklearn.tree import DecisionTreeRegressor,plot_tree\n",
        "\n",
        "import warnings\n",
        "warnings.filterwarnings('ignore')"
      ]
    },
    {
      "cell_type": "markdown",
      "metadata": {
        "id": "h6yDvv0Net2v"
      },
      "source": [
        "# Step 1: Pull in your data"
      ]
    },
    {
      "cell_type": "code",
      "execution_count": null,
      "metadata": {
        "id": "o4MG8GiGet2v"
      },
      "outputs": [],
      "source": [
        "# Pull in your data\n",
        "boston = datasets.load_boston()\n",
        "X = boston.data\n",
        "y = boston.target"
      ]
    },
    {
      "cell_type": "code",
      "execution_count": null,
      "metadata": {
        "id": "6zVWzx0xet2v"
      },
      "outputs": [],
      "source": [
        "features = [str(f) for f in boston.feature_names]\n",
        "print(features)"
      ]
    },
    {
      "cell_type": "markdown",
      "metadata": {
        "id": "VTflfJ_Ret2v"
      },
      "source": [
        "# Step 2: Split data into train and test data"
      ]
    },
    {
      "cell_type": "code",
      "execution_count": null,
      "metadata": {
        "id": "zcRs2UObet2w",
        "outputId": "5a1ab0ff-36c6-4f31-fe73-5ff8c41db654"
      },
      "outputs": [
        {
          "data": {
            "text/plain": [
              "(404, 102)"
            ]
          },
          "execution_count": 9,
          "metadata": {},
          "output_type": "execute_result"
        }
      ],
      "source": [
        "# Split data into test and train\n",
        "X_train,X_test,y_train,y_test = train_test_split(X,y,test_size=.20,random_state = 42)\n",
        "len(X_train),len(X_test)"
      ]
    },
    {
      "cell_type": "markdown",
      "metadata": {
        "id": "JI4ufrvcet2w"
      },
      "source": [
        "# Step 3: Instantiate your machine learning class"
      ]
    },
    {
      "cell_type": "code",
      "execution_count": null,
      "metadata": {
        "id": "HWXJ8CbFet2w",
        "outputId": "a614656a-fe37-4dc4-982a-406f7a3bffe5"
      },
      "outputs": [
        {
          "data": {
            "text/plain": [
              "{'min_samples_split': 4, 'min_samples_leaf': 7, 'max_depth': 7}"
            ]
          },
          "execution_count": 11,
          "metadata": {},
          "output_type": "execute_result"
        }
      ],
      "source": [
        "# This is where you set hyperparameters for model tuning\n",
        "# Create a hyperparameter distribution like we did in the lessons\n",
        "depth_list = [d for d in range(2,10)]+[None]\n",
        "param_dist = {'max_depth':depth_list,\n",
        "              'min_samples_leaf':range(2,10),\n",
        "              'min_samples_split':range(2,10,2)}\n",
        "\n",
        "# Instantiate a decision tree regressor using criterion='mse' and set a random state\n",
        "regressor = DecisionTreeRegressor(\n",
        "    criterion='mse',\n",
        "    random_state=42)\n",
        "\n",
        "# Instantiate a RandomSearchCV instance\n",
        "tree_cv = RandomizedSearchCV(regressor,param_dist,cv=6,random_state=42)\n",
        "\n",
        "# Fit the random search instance on train data\n",
        "tree_cv.fit(X_train,y_train)\n",
        "\n",
        "# Save the hyperparameters to a dictionary\n",
        "best_hps = tree_cv.best_params_\n",
        "best_hps"
      ]
    },
    {
      "cell_type": "code",
      "execution_count": null,
      "metadata": {
        "id": "N12FANu1et2w"
      },
      "outputs": [],
      "source": [
        "# Use the best hyperparameters to instantiate a new regressor instance\n",
        "regressor = DecisionTreeRegressor(\n",
        "    criterion='mse',\n",
        "    random_state=42,\n",
        "    min_samples_split=best_hps['min_samples_split'],\n",
        "    min_samples_leaf=best_hps['min_samples_leaf'],\n",
        "    max_depth=best_hps['max_depth'])"
      ]
    },
    {
      "cell_type": "markdown",
      "metadata": {
        "id": "ze2_LVqjet2x"
      },
      "source": [
        "# Step 4: Fit the model on your training data"
      ]
    },
    {
      "cell_type": "code",
      "execution_count": null,
      "metadata": {
        "id": "W6sG3qQwet2x",
        "outputId": "5f2373d4-35b6-47c8-95b1-5554fabf5f7b"
      },
      "outputs": [
        {
          "data": {
            "text/plain": [
              "DecisionTreeRegressor(max_depth=7, min_samples_leaf=7, min_samples_split=4,\n",
              "                      random_state=42)"
            ]
          },
          "execution_count": 13,
          "metadata": {},
          "output_type": "execute_result"
        }
      ],
      "source": [
        "# Fit the classifier to the train data\n",
        "regressor.fit(X_train,y_train)"
      ]
    },
    {
      "cell_type": "markdown",
      "metadata": {
        "id": "JU2jgqREet2x"
      },
      "source": [
        "# Step 5: Make predictions on the train and test data"
      ]
    },
    {
      "cell_type": "code",
      "execution_count": null,
      "metadata": {
        "id": "Tw65rcyZet2x"
      },
      "outputs": [],
      "source": [
        "# Now we need can test how well the model works on unseen data using the test set\n",
        "# Predict on the train data\n",
        "y_pred_train = regressor.predict(X_train)\n",
        "# Predict on the test data\n",
        "y_pred_test = regressor.predict(X_test)"
      ]
    },
    {
      "cell_type": "markdown",
      "metadata": {
        "id": "NXHio26cet2x"
      },
      "source": [
        "# Step 6: Evaluate model performance"
      ]
    },
    {
      "cell_type": "code",
      "execution_count": null,
      "metadata": {
        "id": "A458NzLget2x"
      },
      "outputs": [],
      "source": [
        "# Get the baseline accuracy - for continuous targets that means always predicting the training mean\n",
        "# Look at the training mean\n",
        "y_train.mean()\n",
        "\n",
        "# Get the mean_absolute_error of predicting the mean\n",
        "mean_absolute_error(y_test,[y_train.mean()]*len(y_test))"
      ]
    },
    {
      "cell_type": "code",
      "execution_count": null,
      "metadata": {
        "id": "SOFpHigOet2x",
        "outputId": "88788fa0-5779-49d7-d928-d78adba1d71e"
      },
      "outputs": [
        {
          "data": {
            "text/plain": [
              "2.165651190119012"
            ]
          },
          "execution_count": 20,
          "metadata": {},
          "output_type": "execute_result"
        }
      ],
      "source": [
        "# Calculate training error\n",
        "mean_absolute_error(y_train,y_pred_train)"
      ]
    },
    {
      "cell_type": "code",
      "execution_count": null,
      "metadata": {
        "id": "WJw5xB38et2x",
        "outputId": "71d9b084-cc7f-4b00-b5f7-15f9ddb87439"
      },
      "outputs": [
        {
          "data": {
            "text/plain": [
              "2.8526070787792244"
            ]
          },
          "execution_count": 21,
          "metadata": {},
          "output_type": "execute_result"
        }
      ],
      "source": [
        "# Calculate testing error\n",
        "mean_absolute_error(y_test,y_pred_test)"
      ]
    },
    {
      "cell_type": "markdown",
      "metadata": {
        "id": "Go8WXCBPet2y"
      },
      "source": [
        "# Step 7: Cost-Complexity Pruning"
      ]
    },
    {
      "cell_type": "code",
      "execution_count": null,
      "metadata": {
        "id": "BUkO_Eqaet2y",
        "outputId": "78148894-116a-4329-ac21-414e57aef6ad"
      },
      "outputs": [
        {
          "data": {
            "text/plain": [
              "array([0.00000000e+00, 2.10403406e-02, 4.61900047e-02, 8.26337759e-02,\n",
              "       1.00991867e-01, 1.06458218e-01, 1.14429776e-01, 1.18900211e-01,\n",
              "       1.30429443e-01, 1.39417675e-01, 1.63821879e-01, 1.85479137e-01,\n",
              "       1.87910500e-01, 2.64292321e-01, 2.81162123e-01, 2.84152174e-01,\n",
              "       2.89161716e-01, 3.13858482e-01, 3.20241115e-01, 4.10500986e-01,\n",
              "       4.92822179e-01, 6.70218676e-01, 7.87820759e-01, 8.60896040e-01,\n",
              "       8.96166476e-01, 1.04808356e+00, 2.16662832e+00, 3.16596443e+00,\n",
              "       5.94515856e+00, 1.44201615e+01, 4.08534465e+01])"
            ]
          },
          "execution_count": 22,
          "metadata": {},
          "output_type": "execute_result"
        }
      ],
      "source": [
        "# Get a list of alphas to test\n",
        "path = regressor.cost_complexity_pruning_path(X_train,y_train)\n",
        "# path has a ccp_alphas attribute and an impurities attribute\n",
        "path.ccp_alphas"
      ]
    },
    {
      "cell_type": "code",
      "execution_count": null,
      "metadata": {
        "id": "1kPwl5bQet2y"
      },
      "outputs": [],
      "source": [
        "# Get a list of models for each alpha\n",
        "models = list()\n",
        "for ccp_alpha in path.ccp_alphas:\n",
        "    reg_temp = DecisionTreeRegressor(criterion='mse',random_state=42,ccp_alpha=ccp_alpha)\n",
        "    reg_temp.fit(X_train,y_train)\n",
        "    models.append(reg_temp)"
      ]
    },
    {
      "cell_type": "code",
      "execution_count": null,
      "metadata": {
        "id": "RjyDoiGSet2y"
      },
      "outputs": [],
      "source": [
        "# We know we never want a tree with one node.  We will always remove this model which is the last tree/alpha\n",
        "ccp_alphas = path.ccp_alphas[:-1]\n",
        "models = models[:-1]"
      ]
    },
    {
      "cell_type": "code",
      "execution_count": null,
      "metadata": {
        "id": "FjEj_lqWet2y",
        "outputId": "4376fda6-9d26-41e4-c867-4c3c77d601a5"
      },
      "outputs": [
        {
          "data": {
            "image/png": "[encoded data removed]",
            "text/plain": [
              "<Figure size 432x288 with 1 Axes>"
            ]
          },
          "metadata": {
            "needs_background": "light"
          },
          "output_type": "display_data"
        }
      ],
      "source": [
        "# Plot the number of nodes and depth for each model with the corresponding alpha\n",
        "node_counts = [reg_temp.tree_.node_count for reg_temp in models]\n",
        "depths = [reg_temp.tree_.max_depth for reg_temp in models]\n",
        "plt.scatter(ccp_alphas,node_counts)\n",
        "plt.scatter(ccp_alphas,depths)\n",
        "plt.plot(ccp_alphas,node_counts,label='num nodes',drawstyle='steps-post')\n",
        "plt.plot(ccp_alphas,depths,label='depth',drawstyle='steps-post')\n",
        "plt.legend()\n",
        "plt.show()"
      ]
    },
    {
      "cell_type": "code",
      "execution_count": null,
      "metadata": {
        "id": "G_43_pqNet2y"
      },
      "outputs": [],
      "source": [
        "# Visualize our train and test accuracy with different values of alpha\n",
        "# Get lists of training errors and testing errors\n",
        "train_err = list()\n",
        "test_err = list()\n",
        "for reg_temp in models:\n",
        "    y_pred_train = reg_temp.predict(X_train)\n",
        "    y_pred_test = reg_temp.predict(X_test)\n",
        "    train_err.append(mean_absolute_error(y_pred_train,y_train))\n",
        "    test_err.append(mean_absolute_error(y_pred_test,y_test))"
      ]
    },
    {
      "cell_type": "code",
      "execution_count": null,
      "metadata": {
        "id": "u7HkItfVet2y",
        "outputId": "97f9abed-59da-4f84-e5a4-d14eb46b1f82"
      },
      "outputs": [
        {
          "data": {
            "image/png": "[encoded data removed]",
            "text/plain": [
              "<Figure size 432x288 with 1 Axes>"
            ]
          },
          "metadata": {
            "needs_background": "light"
          },
          "output_type": "display_data"
        }
      ],
      "source": [
        "# Plot the errors with corresponding alphas\n",
        "plt.scatter(ccp_alphas,train_err)\n",
        "plt.scatter(ccp_alphas,test_err)\n",
        "plt.plot(ccp_alphas,train_err,label='train_error',drawstyle='steps-post')\n",
        "plt.plot(ccp_alphas,test_err,label='test_error',drawstyle='steps-post')\n",
        "plt.legend()\n",
        "plt.title('Error vs. Alpha')\n",
        "plt.show()"
      ]
    },
    {
      "cell_type": "code",
      "execution_count": null,
      "metadata": {
        "id": "Nh-E0WJxet2y",
        "outputId": "55f1a7c1-766b-4944-88a7-55dd1a75d92b"
      },
      "outputs": [
        {
          "name": "stdout",
          "output_type": "stream",
          "text": [
            "2.394117647058824 0.0\n",
            "2.4225708976401013 0.021040340641206162\n",
            "2.303433529017439 0.046190004714779964\n",
            "2.254265500694999 0.08263377587762605\n",
            "2.228275037160907 0.10099186704384328\n",
            "2.228275037160907 0.10645821806456479\n",
            "2.205326598526194 0.11442977631096801\n",
            "2.205326598526194 0.11890021148423102\n",
            "2.2324686068446726 0.13042944294431785\n",
            "2.196839878207175 0.13941767510076908\n",
            "2.1464174261322464 0.1638218788984283\n",
            "2.1473705851736407 0.18547913719943332\n",
            "2.1473705851736407 0.1879105002605846\n",
            "2.3058309763151517 0.26429232149400983\n",
            "2.354981146750152 0.2811621227912404\n",
            "2.4157267943585445 0.28415217445168955\n",
            "2.4157267943585445 0.2891617161716385\n",
            "2.4157267943585445 0.3138584821716801\n",
            "2.4157267943585445 0.3202411151479967\n",
            "2.3773044866018718 0.41050098626321896\n",
            "2.433964150467418 0.49282217892836555\n",
            "2.5875625082436216 0.6702186759748963\n",
            "2.690833266686794 0.7878207585795189\n",
            "2.6777437065384104 0.860896039603976\n",
            "2.6777437065384104 0.8961664762499013\n",
            "2.7319103732050767 1.0480835625855347\n",
            "2.9295239552232495 2.166628317047657\n",
            "3.451123092550054 3.1659644341128192\n",
            "4.020917687713275 5.9451585573106165\n",
            "4.020917687713275 14.420161474850609\n"
          ]
        }
      ],
      "source": [
        "# Print the errors with the alphas - look for the lowest error and choose that alpha as the best\n",
        "# You can do this visually or with a loop\n",
        "for err,alpha in zip(test_err,ccp_alphas):\n",
        "    print(err,alpha)"
      ]
    },
    {
      "cell_type": "code",
      "execution_count": null,
      "metadata": {
        "id": "v0Y2NEyFet2z",
        "outputId": "1a97a39d-0192-46aa-83ef-e190fc854c75"
      },
      "outputs": [
        {
          "name": "stdout",
          "output_type": "stream",
          "text": [
            "2.1464174261322464 0.1638218788984283\n"
          ]
        }
      ],
      "source": [
        "# Option for choosing the lowest with a loop\n",
        "best_alpha = None\n",
        "lowest_err = 1000\n",
        "for err,alpha in zip(test_err,ccp_alphas):\n",
        "    if err < lowest_err:\n",
        "        lowest_err = err\n",
        "        best_alpha = alpha\n",
        "print(lowest_err,best_alpha)"
      ]
    },
    {
      "cell_type": "code",
      "execution_count": null,
      "metadata": {
        "id": "bYYEt6BZet2z"
      },
      "outputs": [],
      "source": [
        "# Instantiate a new regressor with the best hyperparameters and the best alpha\n",
        "regressor = DecisionTreeRegressor(\n",
        "    criterion='mse',\n",
        "    random_state=42,\n",
        "    min_samples_split=best_hps['min_samples_split'],\n",
        "    min_samples_leaf=best_hps['min_samples_leaf'],\n",
        "    max_depth=best_hps['max_depth'],\n",
        "    ccp_alpha=best_alpha)"
      ]
    },
    {
      "cell_type": "code",
      "execution_count": null,
      "metadata": {
        "id": "XHKSnzwxet2z",
        "outputId": "2830a184-fe76-4296-9a02-61d35d2c94e7"
      },
      "outputs": [
        {
          "data": {
            "text/plain": [
              "DecisionTreeRegressor(ccp_alpha=0.1638218788984283, max_depth=7,\n",
              "                      min_samples_leaf=7, min_samples_split=4, random_state=42)"
            ]
          },
          "execution_count": 32,
          "metadata": {},
          "output_type": "execute_result"
        }
      ],
      "source": [
        "# Fit the regressor to the train data\n",
        "regressor.fit(X_train,y_train)"
      ]
    },
    {
      "cell_type": "code",
      "execution_count": null,
      "metadata": {
        "id": "WQoXRtUXet2z"
      },
      "outputs": [],
      "source": [
        "# Predict on train and test to see new model scores\n",
        "y_pred_train = regressor.predict(X_train)\n",
        "y_pred_test = regressor.predict(X_test)"
      ]
    },
    {
      "cell_type": "code",
      "execution_count": null,
      "metadata": {
        "id": "dcN6W3Y1et2z",
        "outputId": "ebf19bc9-a65d-47fc-986d-86b0f4bc9a33"
      },
      "outputs": [
        {
          "data": {
            "text/plain": [
              "2.3969763151850176"
            ]
          },
          "execution_count": 34,
          "metadata": {},
          "output_type": "execute_result"
        }
      ],
      "source": [
        "# New training error\n",
        "mean_absolute_error(y_pred_train,y_train)"
      ]
    },
    {
      "cell_type": "code",
      "execution_count": null,
      "metadata": {
        "id": "KAr4CaNSet2z",
        "outputId": "596a23cb-d709-49cc-f995-1ec49c70cfe6"
      },
      "outputs": [
        {
          "data": {
            "text/plain": [
              "2.8273599933300657"
            ]
          },
          "execution_count": 35,
          "metadata": {},
          "output_type": "execute_result"
        }
      ],
      "source": [
        "# New testing error\n",
        "mean_absolute_error(y_pred_test,y_test)"
      ]
    },
    {
      "cell_type": "markdown",
      "metadata": {
        "id": "k_mSvD4aet2z"
      },
      "source": [
        "## We have improved our testing error - the old score was ~2.85 and the new score is ~2.83"
      ]
    },
    {
      "cell_type": "code",
      "execution_count": null,
      "metadata": {
        "id": "1WQ4S9lEet2z",
        "outputId": "9a8ade7a-5a15-4ce0-bb53-68e86ddd11d9"
      },
      "outputs": [
        {
          "name": "stdout",
          "output_type": "stream",
          "text": [
            "CRIM,ZN,INDUS,CHAS,NOX,RM,AGE,DIS,RAD,TAX,PTRATIO,B,LSTAT\n"
          ]
        }
      ],
      "source": [
        "# Write out your model and data to use in the next project - Visualization\n",
        "pickle.dump(regressor,open('data/reg_model.pkl','wb'))\n",
        "pd.DataFrame(X_train).to_csv('data/boston_X_train.csv',index=False)\n",
        "pd.DataFrame(y_train).to_csv('data/boston_y_train.csv',index=False)\n",
        "with open('data/boston_features.txt','w') as f:\n",
        "    feat_str = ','.join(features)\n",
        "    print(feat_str)\n",
        "    f.write(feat_str)"
      ]
    },
    {
      "cell_type": "markdown",
      "metadata": {
        "id": "AcjqrdBIet20"
      },
      "source": [
        "<div style=\"position: relative;\">\n",
        "<img src=\"https://user-images.githubusercontent.com/7065401/98729912-57be3e80-237a-11eb-80e4-233ac344b391.png\"></img>\n",
        "</div>"
      ]
    }
  ],
  "metadata": {
    "kernelspec": {
      "display_name": "Python 3",
      "language": "python",
      "name": "python3"
    },
    "language_info": {
      "codemirror_mode": {
        "name": "ipython",
        "version": 3
      },
      "file_extension": ".py",
      "mimetype": "text/x-python",
      "name": "python",
      "nbconvert_exporter": "python",
      "pygments_lexer": "ipython3",
      "version": "3.8.6"
    },
    "colab": {
      "provenance": [],
      "toc_visible": true
    }
  },
  "nbformat": 4,
  "nbformat_minor": 0
}