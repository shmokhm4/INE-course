{
  "nbformat": 4,
  "nbformat_minor": 0,
  "metadata": {
    "colab": {
      "provenance": [],
      "toc_visible": true
    },
    "kernelspec": {
      "name": "python3",
      "display_name": "Python 3"
    },
    "language_info": {
      "name": "python"
    }
  },
  "cells": [
    {
      "cell_type": "markdown",
      "source": [
        "# Step 1:\n",
        "\n",
        "*   Add\n",
        "\n",
        "\n",
        "\n"
      ],
      "metadata": {
        "id": "luTXMtaO4uHS"
      }
    },
    {
      "cell_type": "code",
      "source": [
        "def add(a,b):\n",
        "  return a+b"
      ],
      "metadata": {
        "id": "Lmg0oxnT46ki"
      },
      "execution_count": null,
      "outputs": []
    },
    {
      "cell_type": "markdown",
      "source": [
        "\n",
        "\n",
        "*   Subtract\n",
        "\n"
      ],
      "metadata": {
        "id": "0mrkQqMA5BbV"
      }
    },
    {
      "cell_type": "code",
      "source": [
        "def subtract(a,b):\n",
        "  return a-b"
      ],
      "metadata": {
        "id": "T6j1rJ7F5GLl"
      },
      "execution_count": null,
      "outputs": []
    },
    {
      "cell_type": "markdown",
      "source": [
        "\n",
        "\n",
        "*   Multiply\n",
        "\n"
      ],
      "metadata": {
        "id": "b7WPJdje5NVU"
      }
    },
    {
      "cell_type": "code",
      "source": [
        "def multiply(a,b):\n",
        "  return a*b"
      ],
      "metadata": {
        "id": "m6yCaHE-5RUR"
      },
      "execution_count": null,
      "outputs": []
    },
    {
      "cell_type": "markdown",
      "source": [
        "# Step 2\n",
        "\n",
        "*   Divide\n",
        "\n"
      ],
      "metadata": {
        "id": "mAYDGHem6yg2"
      }
    },
    {
      "cell_type": "code",
      "source": [
        "def divide(a,b):\n",
        "  if b==0:\n",
        "    return \"Invalid value for denominator, cant't divide by 0!\"\n",
        "  else:\n",
        "    return a/b"
      ],
      "metadata": {
        "id": "cLgHeZbc64rl"
      },
      "execution_count": null,
      "outputs": []
    },
    {
      "cell_type": "markdown",
      "source": [
        "# Step 3\n",
        "\n",
        "*   Square\n",
        "\n"
      ],
      "metadata": {
        "id": "-v1twtvB5nTG"
      }
    },
    {
      "cell_type": "code",
      "source": [
        "def square(a):\n",
        "  return a*a"
      ],
      "metadata": {
        "id": "wmw6bbv05uc_"
      },
      "execution_count": null,
      "outputs": []
    },
    {
      "cell_type": "markdown",
      "source": [
        "\n",
        "\n",
        "*   Power\n",
        "\n"
      ],
      "metadata": {
        "id": "w2kDMsGa5u77"
      }
    },
    {
      "cell_type": "code",
      "source": [
        "def power(a,b):\n",
        "  return a**b"
      ],
      "metadata": {
        "id": "H6Ow9Ip65ygo"
      },
      "execution_count": null,
      "outputs": []
    },
    {
      "cell_type": "markdown",
      "source": [
        "\n",
        "\n",
        "*   Square Root\n"
      ],
      "metadata": {
        "id": "g2_u01sx5zAT"
      }
    },
    {
      "cell_type": "code",
      "source": [
        "def square_root(a):\n",
        "  return a**0.5"
      ],
      "metadata": {
        "id": "meAS6fa46_sH"
      },
      "execution_count": null,
      "outputs": []
    },
    {
      "cell_type": "markdown",
      "source": [
        "# TEST"
      ],
      "metadata": {
        "id": "nAvZP3yH9yKX"
      }
    },
    {
      "cell_type": "code",
      "source": [
        "results = add(1, 2)\n",
        "print(results)"
      ],
      "metadata": {
        "colab": {
          "base_uri": "https://localhost:8080/"
        },
        "id": "INiGLVgm93f5",
        "outputId": "2289adc6-0c63-425f-d652-23adcc797c4b"
      },
      "execution_count": null,
      "outputs": [
        {
          "output_type": "stream",
          "name": "stdout",
          "text": [
            "3\n"
          ]
        }
      ]
    },
    {
      "cell_type": "code",
      "source": [
        "results = subtract(10, 7)\n",
        "print(results)"
      ],
      "metadata": {
        "colab": {
          "base_uri": "https://localhost:8080/"
        },
        "id": "t91yujrA-JbC",
        "outputId": "78ffe4b1-52f0-4f24-daaf-08eecbe12039"
      },
      "execution_count": null,
      "outputs": [
        {
          "output_type": "stream",
          "name": "stdout",
          "text": [
            "3\n"
          ]
        }
      ]
    },
    {
      "cell_type": "code",
      "source": [
        "results = multiply(2, 3)\n",
        "print(results)"
      ],
      "metadata": {
        "colab": {
          "base_uri": "https://localhost:8080/"
        },
        "id": "JYJBuhVw-Yeo",
        "outputId": "e416a6b8-2177-41e3-d266-acb64dce5bd0"
      },
      "execution_count": null,
      "outputs": [
        {
          "output_type": "stream",
          "name": "stdout",
          "text": [
            "6\n"
          ]
        }
      ]
    },
    {
      "cell_type": "code",
      "source": [
        "results = divide(6, 2)\n",
        "print(results)\n",
        "results = divide(99, 0)\n",
        "print(results)"
      ],
      "metadata": {
        "colab": {
          "base_uri": "https://localhost:8080/"
        },
        "id": "8FJ8ar7F-cPV",
        "outputId": "7eb09fb6-47eb-45e5-cfa8-8c7aafc71caa"
      },
      "execution_count": null,
      "outputs": [
        {
          "output_type": "stream",
          "name": "stdout",
          "text": [
            "3.0\n",
            "Invalid value for denominator, cant't divide by 0!\n"
          ]
        }
      ]
    },
    {
      "cell_type": "code",
      "source": [
        "results = power(3, 2)\n",
        "print(results)\n",
        "results = power(3, 3)\n",
        "print(results)"
      ],
      "metadata": {
        "colab": {
          "base_uri": "https://localhost:8080/"
        },
        "id": "4uLVWMJ--orn",
        "outputId": "b8a44850-d89b-465d-d34a-0a7182e4d16c"
      },
      "execution_count": null,
      "outputs": [
        {
          "output_type": "stream",
          "name": "stdout",
          "text": [
            "9\n",
            "27\n"
          ]
        }
      ]
    },
    {
      "cell_type": "code",
      "source": [
        "results = square(3)\n",
        "print(results)"
      ],
      "metadata": {
        "colab": {
          "base_uri": "https://localhost:8080/"
        },
        "id": "PBLSYjrq-uJN",
        "outputId": "1e31ae1a-1d8f-4f0d-ebb7-801680b9e3e4"
      },
      "execution_count": null,
      "outputs": [
        {
          "output_type": "stream",
          "name": "stdout",
          "text": [
            "9\n"
          ]
        }
      ]
    },
    {
      "cell_type": "code",
      "source": [
        "results = square_root(9)\n",
        "print(results)\n",
        "results = square_root(16)\n",
        "print(results)"
      ],
      "metadata": {
        "colab": {
          "base_uri": "https://localhost:8080/"
        },
        "id": "EPZ2xuqD-4oc",
        "outputId": "5c37cec8-d305-4440-a644-1b6d63a0df33"
      },
      "execution_count": null,
      "outputs": [
        {
          "output_type": "stream",
          "name": "stdout",
          "text": [
            "3.0\n",
            "4.0\n"
          ]
        }
      ]
    }
  ]
}